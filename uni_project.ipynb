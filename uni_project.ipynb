{
 "cells": [
  {
   "cell_type": "markdown",
   "metadata": {},
   "source": [
    "# Ten Years Stroke project"
   ]
  },
  {
   "cell_type": "code",
   "execution_count": 67,
   "metadata": {},
   "outputs": [],
   "source": [
    "import pandas as pd\n",
    "import numpy as np\n",
    "import seaborn as sns\n",
    "import matplotlib.pyplot as plt\n",
    "\n",
    "from pgmpy.estimators import HillClimbSearch, BicScore, AICScore\n",
    "from pgmpy.models import BayesianNetwork"
   ]
  },
  {
   "cell_type": "code",
   "execution_count": 68,
   "metadata": {},
   "outputs": [
    {
     "data": {
      "text/html": [
       "<div>\n",
       "<style scoped>\n",
       "    .dataframe tbody tr th:only-of-type {\n",
       "        vertical-align: middle;\n",
       "    }\n",
       "\n",
       "    .dataframe tbody tr th {\n",
       "        vertical-align: top;\n",
       "    }\n",
       "\n",
       "    .dataframe thead th {\n",
       "        text-align: right;\n",
       "    }\n",
       "</style>\n",
       "<table border=\"1\" class=\"dataframe\">\n",
       "  <thead>\n",
       "    <tr style=\"text-align: right;\">\n",
       "      <th></th>\n",
       "      <th>male</th>\n",
       "      <th>age</th>\n",
       "      <th>education</th>\n",
       "      <th>currentSmoker</th>\n",
       "      <th>cigsPerDay</th>\n",
       "      <th>BPMeds</th>\n",
       "      <th>prevalentStroke</th>\n",
       "      <th>prevalentHyp</th>\n",
       "      <th>diabetes</th>\n",
       "      <th>totChol</th>\n",
       "      <th>sysBP</th>\n",
       "      <th>diaBP</th>\n",
       "      <th>BMI</th>\n",
       "      <th>heartRate</th>\n",
       "      <th>glucose</th>\n",
       "      <th>TenYearCHD</th>\n",
       "    </tr>\n",
       "  </thead>\n",
       "  <tbody>\n",
       "    <tr>\n",
       "      <th>0</th>\n",
       "      <td>1</td>\n",
       "      <td>39</td>\n",
       "      <td>4.0</td>\n",
       "      <td>0</td>\n",
       "      <td>0.0</td>\n",
       "      <td>0.0</td>\n",
       "      <td>0</td>\n",
       "      <td>0</td>\n",
       "      <td>0</td>\n",
       "      <td>195.0</td>\n",
       "      <td>106.0</td>\n",
       "      <td>70.0</td>\n",
       "      <td>26.97</td>\n",
       "      <td>80.0</td>\n",
       "      <td>77.0</td>\n",
       "      <td>0</td>\n",
       "    </tr>\n",
       "    <tr>\n",
       "      <th>1</th>\n",
       "      <td>0</td>\n",
       "      <td>46</td>\n",
       "      <td>2.0</td>\n",
       "      <td>0</td>\n",
       "      <td>0.0</td>\n",
       "      <td>0.0</td>\n",
       "      <td>0</td>\n",
       "      <td>0</td>\n",
       "      <td>0</td>\n",
       "      <td>250.0</td>\n",
       "      <td>121.0</td>\n",
       "      <td>81.0</td>\n",
       "      <td>28.73</td>\n",
       "      <td>95.0</td>\n",
       "      <td>76.0</td>\n",
       "      <td>0</td>\n",
       "    </tr>\n",
       "    <tr>\n",
       "      <th>2</th>\n",
       "      <td>1</td>\n",
       "      <td>48</td>\n",
       "      <td>1.0</td>\n",
       "      <td>1</td>\n",
       "      <td>20.0</td>\n",
       "      <td>0.0</td>\n",
       "      <td>0</td>\n",
       "      <td>0</td>\n",
       "      <td>0</td>\n",
       "      <td>245.0</td>\n",
       "      <td>127.5</td>\n",
       "      <td>80.0</td>\n",
       "      <td>25.34</td>\n",
       "      <td>75.0</td>\n",
       "      <td>70.0</td>\n",
       "      <td>0</td>\n",
       "    </tr>\n",
       "    <tr>\n",
       "      <th>3</th>\n",
       "      <td>0</td>\n",
       "      <td>61</td>\n",
       "      <td>3.0</td>\n",
       "      <td>1</td>\n",
       "      <td>30.0</td>\n",
       "      <td>0.0</td>\n",
       "      <td>0</td>\n",
       "      <td>1</td>\n",
       "      <td>0</td>\n",
       "      <td>225.0</td>\n",
       "      <td>150.0</td>\n",
       "      <td>95.0</td>\n",
       "      <td>28.58</td>\n",
       "      <td>65.0</td>\n",
       "      <td>103.0</td>\n",
       "      <td>1</td>\n",
       "    </tr>\n",
       "    <tr>\n",
       "      <th>4</th>\n",
       "      <td>0</td>\n",
       "      <td>46</td>\n",
       "      <td>3.0</td>\n",
       "      <td>1</td>\n",
       "      <td>23.0</td>\n",
       "      <td>0.0</td>\n",
       "      <td>0</td>\n",
       "      <td>0</td>\n",
       "      <td>0</td>\n",
       "      <td>285.0</td>\n",
       "      <td>130.0</td>\n",
       "      <td>84.0</td>\n",
       "      <td>23.10</td>\n",
       "      <td>85.0</td>\n",
       "      <td>85.0</td>\n",
       "      <td>0</td>\n",
       "    </tr>\n",
       "  </tbody>\n",
       "</table>\n",
       "</div>"
      ],
      "text/plain": [
       "   male  age  education  currentSmoker  cigsPerDay  BPMeds  prevalentStroke  \\\n",
       "0     1   39        4.0              0         0.0     0.0                0   \n",
       "1     0   46        2.0              0         0.0     0.0                0   \n",
       "2     1   48        1.0              1        20.0     0.0                0   \n",
       "3     0   61        3.0              1        30.0     0.0                0   \n",
       "4     0   46        3.0              1        23.0     0.0                0   \n",
       "\n",
       "   prevalentHyp  diabetes  totChol  sysBP  diaBP    BMI  heartRate  glucose  \\\n",
       "0             0         0    195.0  106.0   70.0  26.97       80.0     77.0   \n",
       "1             0         0    250.0  121.0   81.0  28.73       95.0     76.0   \n",
       "2             0         0    245.0  127.5   80.0  25.34       75.0     70.0   \n",
       "3             1         0    225.0  150.0   95.0  28.58       65.0    103.0   \n",
       "4             0         0    285.0  130.0   84.0  23.10       85.0     85.0   \n",
       "\n",
       "   TenYearCHD  \n",
       "0           0  \n",
       "1           0  \n",
       "2           0  \n",
       "3           1  \n",
       "4           0  "
      ]
     },
     "execution_count": 68,
     "metadata": {},
     "output_type": "execute_result"
    }
   ],
   "source": [
    "dataframe = pd.read_csv('tenyear_stroke.csv')\n",
    "dataframe.head()"
   ]
  },
  {
   "cell_type": "code",
   "execution_count": 69,
   "metadata": {},
   "outputs": [],
   "source": [
    "continuous_data = dataframe[['age','totChol','sysBP','diaBP','BMI','cigsPerDay']]\n",
    "discrete_data = dataframe[['male','prevalentStroke','diabetes','TenYearCHD']]"
   ]
  },
  {
   "cell_type": "code",
   "execution_count": 70,
   "metadata": {},
   "outputs": [
    {
     "data": {
      "image/png": "[encoded data removed]",
      "text/plain": [
       "<Figure size 400x300 with 1 Axes>"
      ]
     },
     "metadata": {},
     "output_type": "display_data"
    }
   ],
   "source": [
    "# Step 1: Calculate the correlation matrix\n",
    "corr_matrix = continuous_data.corr()\n",
    "\n",
    "plt.figure(figsize=(4, 3))  # Slightly larger for better readability\n",
    "sns.set(style=\"white\")\n",
    "cmap=sns.color_palette(\"light:b\", as_cmap=True)\n",
    "mask = np.triu(np.ones_like(corr_matrix, dtype=bool),k=0)\n",
    "\n",
    "# Draw the heatmap with specified vmin and vmax\n",
    "sns.heatmap(\n",
    "    corr_matrix,\n",
    "    mask=mask,\n",
    "    annot=True,\n",
    "    cmap=cmap,\n",
    "    fmt='.2f',\n",
    "    linewidths=0.5,\n",
    "    cbar=False\n",
    ")\n",
    "\n",
    "plt.title(\"Correlation Matrix\", fontsize=14, fontweight='bold')\n",
    "plt.xticks(rotation=90)\n",
    "plt.yticks(rotation=0) \n",
    "plt.show()\n"
   ]
  },
  {
   "cell_type": "markdown",
   "metadata": {},
   "source": [
    "# Detect outliers and filter the space\n",
    "\n"
   ]
  },
  {
   "cell_type": "code",
   "execution_count": 66,
   "metadata": {},
   "outputs": [
    {
     "data": {
      "image/png": "[encoded data removed]",
      "text/plain": [
       "<Figure size 400x600 with 1 Axes>"
      ]
     },
     "metadata": {},
     "output_type": "display_data"
    }
   ],
   "source": [
    "data_pr = continuous_data[['sysBP','diaBP']]\n",
    "\n",
    "import seaborn as sns\n",
    "import matplotlib.pyplot as plt\n",
    "\n",
    "# Assuming you have a DataFrame named `df`\n",
    "plt.figure(figsize=(4, 6))\n",
    "sns.set(style=\"whitegrid\")\n",
    "\n",
    "sns.boxplot(data=data_pr,width=0.2)  # By default, boxplots are vertical\n",
    "\n",
    "plt.title(\"Blood Pressure\", fontsize=14, fontweight='bold')\n",
    "plt.xticks(rotation=45, ha='right')\n",
    "plt.tight_layout()\n",
    "plt.show()"
   ]
  },
  {
   "cell_type": "code",
   "execution_count": 76,
   "metadata": {},
   "outputs": [
    {
     "data": {
      "image/png": "[encoded data removed]",
      "text/plain": [
       "<Figure size 800x500 with 4 Axes>"
      ]
     },
     "metadata": {},
     "output_type": "display_data"
    }
   ],
   "source": [
    "# Histogram plots\n",
    "data_hist = continuous_data[['totChol','sysBP','diaBP','BMI']]\n",
    "fig, axes = plt.subplots(2, 2, figsize=(8, 5))\n",
    "features = ['sysBP','diaBP','totChol','BMI']\n",
    "\n",
    "# Flatten the 2D array of axes to make indexing easier\n",
    "axes = axes.flatten()\n",
    "\n",
    "# Plot a histogram for each feature\n",
    "for i, feature in enumerate(features):\n",
    "    sns.histplot(data_hist[feature], kde=False, ax=axes[i])  # Change bins for granularity\n",
    "    axes[i].set_xlabel(feature)\n",
    "    axes[i].set_ylabel('Frequency')\n",
    "\n",
    "# Adjust layout to avoid overlap\n",
    "plt.tight_layout()\n",
    "\n",
    "# Show the plot\n",
    "plt.show()\n"
   ]
  },
  {
   "cell_type": "code",
   "execution_count": 167,
   "metadata": {},
   "outputs": [
    {
     "data": {
      "text/html": [
       "<pre style=\"white-space:pre;overflow-x:auto;line-height:normal;font-family:Menlo,'DejaVu Sans Mono',consolas,'Courier New',monospace\">╭──────────────────────────────────────────────── skimpy summary ─────────────────────────────────────────────────╮\n",
       "│ <span style=\"font-style: italic\">         Data Summary         </span> <span style=\"font-style: italic\">      Data Types       </span>                                                          │\n",
       "│ ┏━━━━━━━━━━━━━━━━━━━┳━━━━━━━━┓ ┏━━━━━━━━━━━━━┳━━━━━━━┓                                                          │\n",
       "│ ┃<span style=\"color: #008080; text-decoration-color: #008080; font-weight: bold\"> Dataframe         </span>┃<span style=\"color: #008080; text-decoration-color: #008080; font-weight: bold\"> Values </span>┃ ┃<span style=\"color: #008080; text-decoration-color: #008080; font-weight: bold\"> Column Type </span>┃<span style=\"color: #008080; text-decoration-color: #008080; font-weight: bold\"> Count </span>┃                                                          │\n",
       "│ ┡━━━━━━━━━━━━━━━━━━━╇━━━━━━━━┩ ┡━━━━━━━━━━━━━╇━━━━━━━┩                                                          │\n",
       "│ │ Number of rows    │ 4238   │ │ float64     │ 5     │                                                          │\n",
       "│ │ Number of columns │ 6      │ │ int64       │ 1     │                                                          │\n",
       "│ └───────────────────┴────────┘ └─────────────┴───────┘                                                          │\n",
       "│ <span style=\"font-style: italic\">                                                    number                                                    </span>  │\n",
       "│ ┏━━━━━━━━━━━━━┳━━━━━┳━━━━━━━━━━━━━━━━━━━━━━┳━━━━━━━━┳━━━━━━━━┳━━━━━━━┳━━━━━━━┳━━━━━━┳━━━━━━━┳━━━━━━━┳━━━━━━━━┓  │\n",
       "│ ┃<span style=\"font-weight: bold\"> column      </span>┃<span style=\"font-weight: bold\"> NA  </span>┃<span style=\"font-weight: bold\"> NA %                 </span>┃<span style=\"font-weight: bold\"> mean   </span>┃<span style=\"font-weight: bold\"> sd     </span>┃<span style=\"font-weight: bold\"> p0    </span>┃<span style=\"font-weight: bold\"> p25   </span>┃<span style=\"font-weight: bold\"> p50  </span>┃<span style=\"font-weight: bold\"> p75   </span>┃<span style=\"font-weight: bold\"> p100  </span>┃<span style=\"font-weight: bold\"> hist   </span>┃  │\n",
       "│ ┡━━━━━━━━━━━━━╇━━━━━╇━━━━━━━━━━━━━━━━━━━━━━╇━━━━━━━━╇━━━━━━━━╇━━━━━━━╇━━━━━━━╇━━━━━━╇━━━━━━━╇━━━━━━━╇━━━━━━━━┩  │\n",
       "│ │ <span style=\"color: #af87ff; text-decoration-color: #af87ff\">age        </span> │ <span style=\"color: #008080; text-decoration-color: #008080\">  0</span> │ <span style=\"color: #008080; text-decoration-color: #008080\">                   0</span> │ <span style=\"color: #008080; text-decoration-color: #008080\"> 49.58</span> │ <span style=\"color: #008080; text-decoration-color: #008080\"> 8.572</span> │ <span style=\"color: #008080; text-decoration-color: #008080\">   32</span> │ <span style=\"color: #008080; text-decoration-color: #008080\">   42</span> │ <span style=\"color: #008080; text-decoration-color: #008080\">  49</span> │ <span style=\"color: #008080; text-decoration-color: #008080\">   56</span> │ <span style=\"color: #008080; text-decoration-color: #008080\">   70</span> │ <span style=\"color: #008000; text-decoration-color: #008000\">▃█▇▇▅▂</span> │  │\n",
       "│ │ <span style=\"color: #af87ff; text-decoration-color: #af87ff\">totChol    </span> │ <span style=\"color: #008080; text-decoration-color: #008080\"> 50</span> │ <span style=\"color: #008080; text-decoration-color: #008080\">   1.179801793298726</span> │ <span style=\"color: #008080; text-decoration-color: #008080\"> 236.7</span> │ <span style=\"color: #008080; text-decoration-color: #008080\"> 44.59</span> │ <span style=\"color: #008080; text-decoration-color: #008080\">  107</span> │ <span style=\"color: #008080; text-decoration-color: #008080\">  206</span> │ <span style=\"color: #008080; text-decoration-color: #008080\"> 234</span> │ <span style=\"color: #008080; text-decoration-color: #008080\">  263</span> │ <span style=\"color: #008080; text-decoration-color: #008080\">  696</span> │ <span style=\"color: #008000; text-decoration-color: #008000\"> ▃█▁  </span> │  │\n",
       "│ │ <span style=\"color: #af87ff; text-decoration-color: #af87ff\">sysBP      </span> │ <span style=\"color: #008080; text-decoration-color: #008080\">  0</span> │ <span style=\"color: #008080; text-decoration-color: #008080\">                   0</span> │ <span style=\"color: #008080; text-decoration-color: #008080\"> 132.4</span> │ <span style=\"color: #008080; text-decoration-color: #008080\"> 22.04</span> │ <span style=\"color: #008080; text-decoration-color: #008080\"> 83.5</span> │ <span style=\"color: #008080; text-decoration-color: #008080\">  117</span> │ <span style=\"color: #008080; text-decoration-color: #008080\"> 128</span> │ <span style=\"color: #008080; text-decoration-color: #008080\">  144</span> │ <span style=\"color: #008080; text-decoration-color: #008080\">  295</span> │ <span style=\"color: #008000; text-decoration-color: #008000\"> ▄█▂  </span> │  │\n",
       "│ │ <span style=\"color: #af87ff; text-decoration-color: #af87ff\">diaBP      </span> │ <span style=\"color: #008080; text-decoration-color: #008080\">  0</span> │ <span style=\"color: #008080; text-decoration-color: #008080\">                   0</span> │ <span style=\"color: #008080; text-decoration-color: #008080\"> 82.89</span> │ <span style=\"color: #008080; text-decoration-color: #008080\"> 11.91</span> │ <span style=\"color: #008080; text-decoration-color: #008080\">   48</span> │ <span style=\"color: #008080; text-decoration-color: #008080\">   75</span> │ <span style=\"color: #008080; text-decoration-color: #008080\">  82</span> │ <span style=\"color: #008080; text-decoration-color: #008080\">89.88</span> │ <span style=\"color: #008080; text-decoration-color: #008080\">142.5</span> │ <span style=\"color: #008000; text-decoration-color: #008000\"> ▁▆█▂ </span> │  │\n",
       "│ │ <span style=\"color: #af87ff; text-decoration-color: #af87ff\">BMI        </span> │ <span style=\"color: #008080; text-decoration-color: #008080\"> 19</span> │ <span style=\"color: #008080; text-decoration-color: #008080\">  0.4483246814535158</span> │ <span style=\"color: #008080; text-decoration-color: #008080\">  25.8</span> │ <span style=\"color: #008080; text-decoration-color: #008080\">  4.08</span> │ <span style=\"color: #008080; text-decoration-color: #008080\">15.54</span> │ <span style=\"color: #008080; text-decoration-color: #008080\">23.07</span> │ <span style=\"color: #008080; text-decoration-color: #008080\">25.4</span> │ <span style=\"color: #008080; text-decoration-color: #008080\">28.04</span> │ <span style=\"color: #008080; text-decoration-color: #008080\"> 56.8</span> │ <span style=\"color: #008000; text-decoration-color: #008000\"> ▂█▂  </span> │  │\n",
       "│ │ <span style=\"color: #af87ff; text-decoration-color: #af87ff\">cigsPerDay </span> │ <span style=\"color: #008080; text-decoration-color: #008080\"> 29</span> │ <span style=\"color: #008080; text-decoration-color: #008080\">   0.684285040113261</span> │ <span style=\"color: #008080; text-decoration-color: #008080\"> 9.003</span> │ <span style=\"color: #008080; text-decoration-color: #008080\"> 11.92</span> │ <span style=\"color: #008080; text-decoration-color: #008080\">    0</span> │ <span style=\"color: #008080; text-decoration-color: #008080\">    0</span> │ <span style=\"color: #008080; text-decoration-color: #008080\">   0</span> │ <span style=\"color: #008080; text-decoration-color: #008080\">   20</span> │ <span style=\"color: #008080; text-decoration-color: #008080\">   70</span> │ <span style=\"color: #008000; text-decoration-color: #008000\"> █▃▁  </span> │  │\n",
       "│ └─────────────┴─────┴──────────────────────┴────────┴────────┴───────┴───────┴──────┴───────┴───────┴────────┘  │\n",
       "╰────────────────────────────────────────────────────── End ──────────────────────────────────────────────────────╯\n",
       "</pre>\n"
      ],
      "text/plain": [
       "╭──────────────────────────────────────────────── skimpy summary ─────────────────────────────────────────────────╮\n",
       "│ \u001b[3m         Data Summary         \u001b[0m \u001b[3m      Data Types       \u001b[0m                                                          │\n",
       "│ ┏━━━━━━━━━━━━━━━━━━━┳━━━━━━━━┓ ┏━━━━━━━━━━━━━┳━━━━━━━┓                                                          │\n",
       "│ ┃\u001b[1;36m \u001b[0m\u001b[1;36mDataframe        \u001b[0m\u001b[1;36m \u001b[0m┃\u001b[1;36m \u001b[0m\u001b[1;36mValues\u001b[0m\u001b[1;36m \u001b[0m┃ ┃\u001b[1;36m \u001b[0m\u001b[1;36mColumn Type\u001b[0m\u001b[1;36m \u001b[0m┃\u001b[1;36m \u001b[0m\u001b[1;36mCount\u001b[0m\u001b[1;36m \u001b[0m┃                                                          │\n",
       "│ ┡━━━━━━━━━━━━━━━━━━━╇━━━━━━━━┩ ┡━━━━━━━━━━━━━╇━━━━━━━┩                                                          │\n",
       "│ │ Number of rows    │ 4238   │ │ float64     │ 5     │                                                          │\n",
       "│ │ Number of columns │ 6      │ │ int64       │ 1     │                                                          │\n",
       "│ └───────────────────┴────────┘ └─────────────┴───────┘                                                          │\n",
       "│ \u001b[3m                                                    number                                                    \u001b[0m  │\n",
       "│ ┏━━━━━━━━━━━━━┳━━━━━┳━━━━━━━━━━━━━━━━━━━━━━┳━━━━━━━━┳━━━━━━━━┳━━━━━━━┳━━━━━━━┳━━━━━━┳━━━━━━━┳━━━━━━━┳━━━━━━━━┓  │\n",
       "│ ┃\u001b[1m \u001b[0m\u001b[1mcolumn     \u001b[0m\u001b[1m \u001b[0m┃\u001b[1m \u001b[0m\u001b[1mNA \u001b[0m\u001b[1m \u001b[0m┃\u001b[1m \u001b[0m\u001b[1mNA %                \u001b[0m\u001b[1m \u001b[0m┃\u001b[1m \u001b[0m\u001b[1mmean  \u001b[0m\u001b[1m \u001b[0m┃\u001b[1m \u001b[0m\u001b[1msd    \u001b[0m\u001b[1m \u001b[0m┃\u001b[1m \u001b[0m\u001b[1mp0   \u001b[0m\u001b[1m \u001b[0m┃\u001b[1m \u001b[0m\u001b[1mp25  \u001b[0m\u001b[1m \u001b[0m┃\u001b[1m \u001b[0m\u001b[1mp50 \u001b[0m\u001b[1m \u001b[0m┃\u001b[1m \u001b[0m\u001b[1mp75  \u001b[0m\u001b[1m \u001b[0m┃\u001b[1m \u001b[0m\u001b[1mp100 \u001b[0m\u001b[1m \u001b[0m┃\u001b[1m \u001b[0m\u001b[1mhist  \u001b[0m\u001b[1m \u001b[0m┃  │\n",
       "│ ┡━━━━━━━━━━━━━╇━━━━━╇━━━━━━━━━━━━━━━━━━━━━━╇━━━━━━━━╇━━━━━━━━╇━━━━━━━╇━━━━━━━╇━━━━━━╇━━━━━━━╇━━━━━━━╇━━━━━━━━┩  │\n",
       "│ │ \u001b[38;5;141mage        \u001b[0m │ \u001b[36m  0\u001b[0m │ \u001b[36m                   0\u001b[0m │ \u001b[36m 49.58\u001b[0m │ \u001b[36m 8.572\u001b[0m │ \u001b[36m   32\u001b[0m │ \u001b[36m   42\u001b[0m │ \u001b[36m  49\u001b[0m │ \u001b[36m   56\u001b[0m │ \u001b[36m   70\u001b[0m │ \u001b[32m▃█▇▇▅▂\u001b[0m │  │\n",
       "│ │ \u001b[38;5;141mtotChol    \u001b[0m │ \u001b[36m 50\u001b[0m │ \u001b[36m   1.179801793298726\u001b[0m │ \u001b[36m 236.7\u001b[0m │ \u001b[36m 44.59\u001b[0m │ \u001b[36m  107\u001b[0m │ \u001b[36m  206\u001b[0m │ \u001b[36m 234\u001b[0m │ \u001b[36m  263\u001b[0m │ \u001b[36m  696\u001b[0m │ \u001b[32m ▃█▁  \u001b[0m │  │\n",
       "│ │ \u001b[38;5;141msysBP      \u001b[0m │ \u001b[36m  0\u001b[0m │ \u001b[36m                   0\u001b[0m │ \u001b[36m 132.4\u001b[0m │ \u001b[36m 22.04\u001b[0m │ \u001b[36m 83.5\u001b[0m │ \u001b[36m  117\u001b[0m │ \u001b[36m 128\u001b[0m │ \u001b[36m  144\u001b[0m │ \u001b[36m  295\u001b[0m │ \u001b[32m ▄█▂  \u001b[0m │  │\n",
       "│ │ \u001b[38;5;141mdiaBP      \u001b[0m │ \u001b[36m  0\u001b[0m │ \u001b[36m                   0\u001b[0m │ \u001b[36m 82.89\u001b[0m │ \u001b[36m 11.91\u001b[0m │ \u001b[36m   48\u001b[0m │ \u001b[36m   75\u001b[0m │ \u001b[36m  82\u001b[0m │ \u001b[36m89.88\u001b[0m │ \u001b[36m142.5\u001b[0m │ \u001b[32m ▁▆█▂ \u001b[0m │  │\n",
       "│ │ \u001b[38;5;141mBMI        \u001b[0m │ \u001b[36m 19\u001b[0m │ \u001b[36m  0.4483246814535158\u001b[0m │ \u001b[36m  25.8\u001b[0m │ \u001b[36m  4.08\u001b[0m │ \u001b[36m15.54\u001b[0m │ \u001b[36m23.07\u001b[0m │ \u001b[36m25.4\u001b[0m │ \u001b[36m28.04\u001b[0m │ \u001b[36m 56.8\u001b[0m │ \u001b[32m ▂█▂  \u001b[0m │  │\n",
       "│ │ \u001b[38;5;141mcigsPerDay \u001b[0m │ \u001b[36m 29\u001b[0m │ \u001b[36m   0.684285040113261\u001b[0m │ \u001b[36m 9.003\u001b[0m │ \u001b[36m 11.92\u001b[0m │ \u001b[36m    0\u001b[0m │ \u001b[36m    0\u001b[0m │ \u001b[36m   0\u001b[0m │ \u001b[36m   20\u001b[0m │ \u001b[36m   70\u001b[0m │ \u001b[32m █▃▁  \u001b[0m │  │\n",
       "│ └─────────────┴─────┴──────────────────────┴────────┴────────┴───────┴───────┴──────┴───────┴───────┴────────┘  │\n",
       "╰────────────────────────────────────────────────────── End ──────────────────────────────────────────────────────╯\n"
      ]
     },
     "metadata": {},
     "output_type": "display_data"
    }
   ],
   "source": [
    "from skimpy import skim \n",
    "\n",
    "skim(continuous_data)"
   ]
  },
  {
   "cell_type": "code",
   "execution_count": 151,
   "metadata": {},
   "outputs": [],
   "source": [
    "continuous_data_cl = continuous_data.dropna()"
   ]
  },
  {
   "cell_type": "code",
   "execution_count": null,
   "metadata": {},
   "outputs": [],
   "source": [
    "# Age\n",
    "continuous_data_cl = continuous_data_cl[(continuous_data_cl['age'] >= 35) & (continuous_data_cl['age'] <= 65)]\n",
    "continuous_data_cl['age'] = pd.cut(continuous_data_cl.age,bins=[29,44,54,65],labels=[0,1,2],ordered=True).astype(int)\n",
    "\n",
    "# Cholesterol-level\n",
    "continuous_data_cl = continuous_data_cl[(continuous_data_cl['totChol'] >= 100) & (continuous_data_cl['totChol'] <= 500)]\n",
    "continuous_data_cl['totChol'] = pd.cut(continuous_data_cl.totChol,bins=[99,199,239,500],labels=[0,1,2],ordered=True).astype(int)\n",
    "\n",
    "# Body Mass Index \n",
    "continuous_data_cl = continuous_data_cl[(continuous_data_cl['BMI'] <= 40)]\n",
    "continuous_data_cl['BMI'] = pd.cut(continuous_data_cl.BMI,bins=[14.,18.4,24.9,29.9,40],labels=[0,1,2,3],ordered=True).astype(int)\n",
    "\n",
    "#Cigs Per Day \n",
    "continuous_data_cl = continuous_data_cl[(continuous_data_cl['cigsPerDay'] <= 40)]\n",
    "continuous_data_cl['cigsPerDay'] = pd.cut(continuous_data_cl.cigsPerDay,bins=[-1,0,19,40],labels=[0,1,2],ordered=True).astype(int)\n",
    "\n",
    "\n",
    "\n"
   ]
  },
  {
   "cell_type": "code",
   "execution_count": 153,
   "metadata": {},
   "outputs": [],
   "source": [
    "# Create a Blood pressure variable\n",
    "\n",
    "bloodP= []\n",
    "\n",
    "# Systolic-Pressure\n",
    "continuous_data_cl = continuous_data_cl[(continuous_data_cl['sysBP'] >= 40) & (continuous_data_cl['sysBP'] <= 250)]\n",
    "# Diastolic-Pressure\n",
    "continuous_data_cl = continuous_data_cl[(continuous_data_cl['diaBP'] >= 40) &(continuous_data_cl['diaBP'] <= 140)]\n",
    "\n",
    "for i,sys in enumerate(continuous_data_cl.sysBP.values):\n",
    "    dia = continuous_data_cl.diaBP.values[i]\n",
    "\n",
    "    if (sys<=90 and dia<=60):\n",
    "        blood = 0\n",
    "    elif (sys<=120 and dia<=80):\n",
    "        blood = 1\n",
    "    elif (sys<=140 and dia<=90):\n",
    "        blood = 2\n",
    "    else: \n",
    "        blood = 3\n",
    "    bloodP.append(blood)\n",
    "    \n",
    "continuous_data_cl['BloodP'] = bloodP"
   ]
  },
  {
   "cell_type": "code",
   "execution_count": 165,
   "metadata": {},
   "outputs": [
    {
     "data": {
      "text/html": [
       "<div>\n",
       "<style scoped>\n",
       "    .dataframe tbody tr th:only-of-type {\n",
       "        vertical-align: middle;\n",
       "    }\n",
       "\n",
       "    .dataframe tbody tr th {\n",
       "        vertical-align: top;\n",
       "    }\n",
       "\n",
       "    .dataframe thead th {\n",
       "        text-align: right;\n",
       "    }\n",
       "</style>\n",
       "<table border=\"1\" class=\"dataframe\">\n",
       "  <thead>\n",
       "    <tr style=\"text-align: right;\">\n",
       "      <th></th>\n",
       "      <th>Age</th>\n",
       "      <th>TotC</th>\n",
       "      <th>BMI</th>\n",
       "      <th>CxD</th>\n",
       "      <th>BP</th>\n",
       "      <th>GEN</th>\n",
       "      <th>PStroke</th>\n",
       "      <th>Diab</th>\n",
       "      <th>TYS</th>\n",
       "    </tr>\n",
       "  </thead>\n",
       "  <tbody>\n",
       "    <tr>\n",
       "      <th>0</th>\n",
       "      <td>0</td>\n",
       "      <td>0</td>\n",
       "      <td>2</td>\n",
       "      <td>0</td>\n",
       "      <td>1</td>\n",
       "      <td>1</td>\n",
       "      <td>0</td>\n",
       "      <td>0</td>\n",
       "      <td>0</td>\n",
       "    </tr>\n",
       "    <tr>\n",
       "      <th>1</th>\n",
       "      <td>1</td>\n",
       "      <td>2</td>\n",
       "      <td>2</td>\n",
       "      <td>0</td>\n",
       "      <td>2</td>\n",
       "      <td>0</td>\n",
       "      <td>0</td>\n",
       "      <td>0</td>\n",
       "      <td>0</td>\n",
       "    </tr>\n",
       "    <tr>\n",
       "      <th>2</th>\n",
       "      <td>1</td>\n",
       "      <td>2</td>\n",
       "      <td>2</td>\n",
       "      <td>2</td>\n",
       "      <td>2</td>\n",
       "      <td>1</td>\n",
       "      <td>0</td>\n",
       "      <td>0</td>\n",
       "      <td>0</td>\n",
       "    </tr>\n",
       "    <tr>\n",
       "      <th>3</th>\n",
       "      <td>2</td>\n",
       "      <td>1</td>\n",
       "      <td>2</td>\n",
       "      <td>2</td>\n",
       "      <td>3</td>\n",
       "      <td>0</td>\n",
       "      <td>0</td>\n",
       "      <td>0</td>\n",
       "      <td>1</td>\n",
       "    </tr>\n",
       "    <tr>\n",
       "      <th>4</th>\n",
       "      <td>1</td>\n",
       "      <td>2</td>\n",
       "      <td>1</td>\n",
       "      <td>2</td>\n",
       "      <td>2</td>\n",
       "      <td>0</td>\n",
       "      <td>0</td>\n",
       "      <td>0</td>\n",
       "      <td>0</td>\n",
       "    </tr>\n",
       "  </tbody>\n",
       "</table>\n",
       "</div>"
      ],
      "text/plain": [
       "  Age TotC BMI CxD BP GEN PStroke Diab TYS\n",
       "0   0    0   2   0  1   1       0    0   0\n",
       "1   1    2   2   0  2   0       0    0   0\n",
       "2   1    2   2   2  2   1       0    0   0\n",
       "3   2    1   2   2  3   0       0    0   1\n",
       "4   1    2   1   2  2   0       0    0   0"
      ]
     },
     "execution_count": 165,
     "metadata": {},
     "output_type": "execute_result"
    }
   ],
   "source": [
    "continuous_data_cl.columns=['Age','TotC','SBP','DBP','BMI','CxD','BP']\n",
    "discrete_data.columns = ['GEN','PStroke','Diab','TYS']\n",
    "\n",
    "dataset = pd.concat([continuous_data_cl,discrete_data],axis=1)\n",
    "dataset = dataset.drop(['SBP','DBP'],axis=1)\n",
    "\n",
    "dataset = dataset.dropna()\n",
    "dataset = dataset.astype('int')\n",
    "dataset = dataset.astype('str')\n",
    "\n",
    "\n",
    "dataset.head()"
   ]
  },
  {
   "cell_type": "code",
   "execution_count": 166,
   "metadata": {},
   "outputs": [
    {
     "name": "stdout",
     "output_type": "stream",
     "text": [
      "True\n"
     ]
    }
   ],
   "source": [
    "from pgmpy.estimators.CITests import chi_square\n",
    "\n",
    "print(chi_square(X='CxD',Y='Diab', Z=[] ,data=dataset, significance_level = 0.05))"
   ]
  },
  {
   "cell_type": "markdown",
   "metadata": {},
   "source": [
    "# Definition of the Network "
   ]
  },
  {
   "cell_type": "markdown",
   "metadata": {},
   "source": [
    "### Personal definition"
   ]
  },
  {
   "cell_type": "code",
   "execution_count": 13,
   "metadata": {},
   "outputs": [],
   "source": [
    "# DIVIDE IN TRAIN AND TEST\n",
    "from imblearn.over_sampling import SMOTE\n",
    "X = dataset.drop(['TYS'],axis=1)\n",
    "y = dataset[['TYS']]\n",
    "\n",
    "from sklearn.model_selection import train_test_split\n",
    "X_train, X_val, y_train, y_val = train_test_split(X, y, test_size=0.2)\n",
    "X_val, X_test, y_val, y_test = train_test_split(X_val, y_val, test_size=0.4)\n",
    "# Initialize SMOTE\n",
    "smote = SMOTE(sampling_strategy=0.25)\n",
    "\n",
    "# Apply SMOTE to the training data\n",
    "X_train, y_train = smote.fit_resample(X_train, y_train)\n",
    "X_train = np.round(X_train).astype(int)\n",
    "\n",
    "train_net_all = pd.concat([X_train,y_train],axis=1)\n",
    "test_net_all =  pd.concat([X_test,y_test],axis=1)"
   ]
  },
  {
   "cell_type": "code",
   "execution_count": 14,
   "metadata": {},
   "outputs": [
    {
     "data": {
      "text/plain": [
       "True"
      ]
     },
     "execution_count": 14,
     "metadata": {},
     "output_type": "execute_result"
    }
   ],
   "source": [
    "edges_1 = [ ('A','BMI'),('GEN','BMI'),('SM','BMI'),\n",
    "            ('BMI','GLU'),('BMI','C'),('A','C'),('A','GLU'),('GEN','C'),('GEN','GLU'),\n",
    "            ('GLU','BP'),('C','BP'),\n",
    "            ('GLU','D'),('GLU','PS'),('C','D'),('C','PS'),\n",
    "            ('BP','D'),('BP','PS'),\n",
    "            ('D','TYS'),('BP','TYS'),('PS','TYS')\n",
    "        ]\n",
    "\n",
    "model_1 = BayesianNetwork(edges_1)\n",
    "\n",
    "from pgmpy.estimators import MaximumLikelihoodEstimator\n",
    "\n",
    "# Fit the CPDs using MaximumLikelihoodEstimator\n",
    "model_1.fit(train_net_all, estimator=MaximumLikelihoodEstimator)\n",
    "\n",
    "model_1.check_model()"
   ]
  },
  {
   "cell_type": "code",
   "execution_count": 15,
   "metadata": {},
   "outputs": [
    {
     "data": {
      "text/html": [
       "<div>\n",
       "<style scoped>\n",
       "    .dataframe tbody tr th:only-of-type {\n",
       "        vertical-align: middle;\n",
       "    }\n",
       "\n",
       "    .dataframe tbody tr th {\n",
       "        vertical-align: top;\n",
       "    }\n",
       "\n",
       "    .dataframe thead th {\n",
       "        text-align: right;\n",
       "    }\n",
       "</style>\n",
       "<table border=\"1\" class=\"dataframe\">\n",
       "  <thead>\n",
       "    <tr style=\"text-align: right;\">\n",
       "      <th></th>\n",
       "      <th>A</th>\n",
       "      <th>C</th>\n",
       "      <th>GLU</th>\n",
       "      <th>BP</th>\n",
       "      <th>GEN</th>\n",
       "      <th>SM</th>\n",
       "      <th>PS</th>\n",
       "      <th>D</th>\n",
       "      <th>TYS</th>\n",
       "    </tr>\n",
       "  </thead>\n",
       "  <tbody>\n",
       "    <tr>\n",
       "      <th>0</th>\n",
       "      <td>0</td>\n",
       "      <td>1</td>\n",
       "      <td>1</td>\n",
       "      <td>1</td>\n",
       "      <td>1</td>\n",
       "      <td>0</td>\n",
       "      <td>0</td>\n",
       "      <td>0</td>\n",
       "      <td>0</td>\n",
       "    </tr>\n",
       "    <tr>\n",
       "      <th>1</th>\n",
       "      <td>1</td>\n",
       "      <td>3</td>\n",
       "      <td>1</td>\n",
       "      <td>2</td>\n",
       "      <td>0</td>\n",
       "      <td>0</td>\n",
       "      <td>0</td>\n",
       "      <td>0</td>\n",
       "      <td>0</td>\n",
       "    </tr>\n",
       "    <tr>\n",
       "      <th>2</th>\n",
       "      <td>1</td>\n",
       "      <td>3</td>\n",
       "      <td>1</td>\n",
       "      <td>2</td>\n",
       "      <td>1</td>\n",
       "      <td>1</td>\n",
       "      <td>0</td>\n",
       "      <td>0</td>\n",
       "      <td>0</td>\n",
       "    </tr>\n",
       "    <tr>\n",
       "      <th>3</th>\n",
       "      <td>3</td>\n",
       "      <td>2</td>\n",
       "      <td>2</td>\n",
       "      <td>3</td>\n",
       "      <td>0</td>\n",
       "      <td>1</td>\n",
       "      <td>0</td>\n",
       "      <td>0</td>\n",
       "      <td>1</td>\n",
       "    </tr>\n",
       "    <tr>\n",
       "      <th>4</th>\n",
       "      <td>1</td>\n",
       "      <td>4</td>\n",
       "      <td>1</td>\n",
       "      <td>2</td>\n",
       "      <td>0</td>\n",
       "      <td>1</td>\n",
       "      <td>0</td>\n",
       "      <td>0</td>\n",
       "      <td>0</td>\n",
       "    </tr>\n",
       "  </tbody>\n",
       "</table>\n",
       "</div>"
      ],
      "text/plain": [
       "   A  C GLU BP GEN SM PS  D TYS\n",
       "0  0  1   1  1   1  0  0  0   0\n",
       "1  1  3   1  2   0  0  0  0   0\n",
       "2  1  3   1  2   1  1  0  0   0\n",
       "3  3  2   2  3   0  1  0  0   1\n",
       "4  1  4   1  2   0  1  0  0   0"
      ]
     },
     "execution_count": 15,
     "metadata": {},
     "output_type": "execute_result"
    }
   ],
   "source": [
    "data_cut = dataset.drop(['BMI'],axis=1)\n",
    "data_cut.head()"
   ]
  },
  {
   "cell_type": "code",
   "execution_count": 36,
   "metadata": {},
   "outputs": [],
   "source": [
    "# DIVIDE IN TRAIN AND TEST\n",
    "from imblearn.over_sampling import SMOTE\n",
    "\n",
    "X = data_cut.drop(['TYS'],axis=1)\n",
    "y = data_cut[['TYS']]\n",
    "\n",
    "from sklearn.model_selection import train_test_split\n",
    "X_train, X_test, y_train, y_test = train_test_split(X, y, test_size=0.3,stratify=y)\n",
    "X_val, X_test, y_val, y_test = train_test_split(X_val, y_val, test_size=0.3)\n",
    "# Initialize SMOTE\n",
    "smote = SMOTE(sampling_strategy=0.2)\n",
    "\n",
    "# Apply SMOTE to the training data\n",
    "X_train, y_train = smote.fit_resample(X_train, y_train)\n",
    "X_train = np.round(X_train).astype(int)\n",
    "\n",
    "train_net = pd.concat([X_train,y_train],axis=1)\n",
    "val_net = pd.concat([X_val,y_val],axis=1)\n",
    "test_net =  pd.concat([X_test,y_test],axis=1)\n"
   ]
  },
  {
   "cell_type": "code",
   "execution_count": 37,
   "metadata": {},
   "outputs": [
    {
     "data": {
      "text/plain": [
       "True"
      ]
     },
     "execution_count": 37,
     "metadata": {},
     "output_type": "execute_result"
    }
   ],
   "source": [
    "edges_2 = [ ('A','BP'),('GEN','BP'),\n",
    "            ('A','C'),('A','GLU'),('GEN','C'),('GEN','GLU'),\n",
    "            ('C','BP'),('GLU','D'),('GLU','BP'),\n",
    "            ('SM','BP'),\n",
    "            ('BP','TYS'),('A','TYS'),('PS','TYS')\n",
    "        ]\n",
    "\n",
    "model_2 = BayesianNetwork(edges_2)\n",
    "\n",
    "from pgmpy.estimators import MaximumLikelihoodEstimator\n",
    "model_2.fit(train_net, estimator=MaximumLikelihoodEstimator)\n",
    "\n",
    "model_2.check_model()"
   ]
  },
  {
   "cell_type": "markdown",
   "metadata": {},
   "source": [
    "## Hill Search"
   ]
  },
  {
   "cell_type": "code",
   "execution_count": 38,
   "metadata": {},
   "outputs": [
    {
     "data": {
      "application/vnd.jupyter.widget-view+json": {
       "model_id": "cd2b3867de104a54bd99ee989048d42a",
       "version_major": 2,
       "version_minor": 0
      },
      "text/plain": [
       "  0%|          | 0/1000000 [00:00<?, ?it/s]"
      ]
     },
     "metadata": {},
     "output_type": "display_data"
    },
    {
     "data": {
      "text/plain": [
       "True"
      ]
     },
     "execution_count": 38,
     "metadata": {},
     "output_type": "execute_result"
    }
   ],
   "source": [
    "# Set some boundaries\n",
    "\n",
    "fixeed_edges = [('A','BP'),('GEN','BP'),('SM','BP'),('GLU','D'),('BP','TYS')]\n",
    "forbidden_edges = [(node,'A') for node in train_net.columns if node !='BP'] + \\\n",
    "                  [(node,'GEN') for node in train_net.columns if node !='BP'] + \\\n",
    "                   [(node,'SM') for node in train_net.columns if node !='SM']\n",
    "\n",
    "score = HillClimbSearch(train_net)\n",
    "\n",
    "best_model = score.estimate(scoring_method=BicScore(train_net),max_indegree=5,\n",
    "                            fixed_edges=fixeed_edges,black_list=forbidden_edges)\n",
    "\n",
    "hill_model=BayesianNetwork(best_model.edges())\n",
    "\n",
    "hill_model.fit(train_net, estimator=MaximumLikelihoodEstimator)\n",
    "\n",
    "hill_model.check_model()\n"
   ]
  },
  {
   "cell_type": "code",
   "execution_count": 39,
   "metadata": {},
   "outputs": [
    {
     "name": "stdout",
     "output_type": "stream",
     "text": [
      "Model_2 BIC: -3171.498025065326\n",
      "Model_hill BIC: -1580.778573300148\n"
     ]
    }
   ],
   "source": [
    "bic = BicScore(val_net)\n",
    "\n",
    "print(f'Model_2 BIC: {bic.score(model_2)}')\n",
    "print(f'Model_hill BIC: {bic.score(hill_model)}')"
   ]
  },
  {
   "cell_type": "markdown",
   "metadata": {},
   "source": [
    "# Making predictions and evaluate models\n",
    "Test the accuracy of our 3 models to select the ones from which we will obtain informations"
   ]
  },
  {
   "cell_type": "code",
   "execution_count": 40,
   "metadata": {},
   "outputs": [],
   "source": [
    "from pgmpy.inference import VariableElimination\n",
    "\n",
    "true_values = []\n",
    "predicted_probs = []\n",
    "\n",
    "inference = VariableElimination(model_1)\n",
    "keys_to_keep = [node for node in model_1.nodes()]\n",
    "\n",
    "\n",
    "# Iterate over each row in the test set (assuming 'test_net' is your test data)\n",
    "for index, row in val_net.iterrows():\n",
    "    \n",
    "    evidence = row.to_dict()\n",
    "    evidence = {k: int(v) for k, v in evidence.items() if k in keys_to_keep}\n",
    "    del evidence['TYS']\n",
    "\n",
    "    remove_list = []\n",
    "    for var in  model_1.nodes():\n",
    "        if var not in evidence.keys():\n",
    "            remove_list.append\n",
    "    \n",
    "    # Use the trained Bayesian network model to predict the probability distribution of 'Y'\n",
    "    prediction = inference.query(variables=['TYS'], evidence=evidence)\n",
    "    \n",
    "    predicted_prob=prediction.values[1]\n",
    "            \n",
    "    # True value of 'Y' from the test set\n",
    "    true_y = row['TYS']\n",
    "    \n",
    "    # Append true and predicted values\n",
    "    true_values.append(true_y)\n",
    "    predicted_probs.append(predicted_prob)"
   ]
  },
  {
   "cell_type": "code",
   "execution_count": 41,
   "metadata": {},
   "outputs": [
    {
     "name": "stdout",
     "output_type": "stream",
     "text": [
      "Best Threshold: 0.12\n",
      "Best Weighted F1 Score: 0.2828\n"
     ]
    }
   ],
   "source": [
    "from sklearn.metrics import f1_score\n",
    "\n",
    "# Initialize variables to track best threshold and its corresponding f1 score\n",
    "best_threshold = 0\n",
    "best_f1_weighted = 0\n",
    "\n",
    "# Range of thresholds to test\n",
    "thresholds = np.linspace(0, 1, 50)\n",
    "\n",
    "# Store F1 scores for plotting\n",
    "f1_scores = []\n",
    "\n",
    "# Loop over thresholds to find the best one\n",
    "for threshold in thresholds:\n",
    "    # Classify labels based on the threshold\n",
    "    predicted_values = ['1' if pred >= threshold else '0' for pred in predicted_probs]\n",
    "    \n",
    "    # Compute weighted F1 score\n",
    "    f1_weighted = f1_score(true_values,predicted_values , pos_label='1')\n",
    "    f1_scores.append(f1_weighted)\n",
    "    \n",
    "    # Update best threshold if this F1 score is better\n",
    "    if f1_weighted > best_f1_weighted:\n",
    "        best_f1_weighted = f1_weighted\n",
    "        best_threshold = threshold\n",
    "\n",
    "# Print the best threshold and corresponding weighted F1 score\n",
    "print(f\"Best Threshold: {best_threshold:.2f}\")\n",
    "print(f\"Best Weighted F1 Score: {best_f1_weighted:.4f}\")\n"
   ]
  },
  {
   "cell_type": "markdown",
   "metadata": {},
   "source": [
    "## Evaluate on test set"
   ]
  },
  {
   "cell_type": "code",
   "execution_count": 42,
   "metadata": {},
   "outputs": [],
   "source": [
    "from pgmpy.inference import VariableElimination\n",
    "\n",
    "true_values = []\n",
    "predicted_probs = []\n",
    "\n",
    "inference = VariableElimination(model_1)\n",
    "keys_to_keep = [node for node in model_1.nodes()]\n",
    "\n",
    "\n",
    "# Iterate over each row in the test set (assuming 'test_net' is your test data)\n",
    "for index, row in test_net.iterrows():\n",
    "    \n",
    "    evidence = row.to_dict()\n",
    "    evidence = {k: int(v) for k, v in evidence.items() if k in keys_to_keep}\n",
    "    del evidence['TYS']\n",
    "\n",
    "    remove_list = []\n",
    "    for var in model_1.nodes():\n",
    "        if var not in evidence.keys():\n",
    "            remove_list.append\n",
    "    \n",
    "    # Use the trained Bayesian network model to predict the probability distribution of 'Y'\n",
    "    prediction = inference.query(variables=['TYS'], evidence=evidence)\n",
    "    \n",
    "    predicted_prob=prediction.values[1]\n",
    "            \n",
    "    # True value of 'Y' from the test set\n",
    "    true_y = row['TYS']\n",
    "    \n",
    "    # Append true and predicted values\n",
    "    true_values.append(true_y)\n",
    "    predicted_probs.append(predicted_prob)"
   ]
  },
  {
   "cell_type": "code",
   "execution_count": 43,
   "metadata": {},
   "outputs": [],
   "source": [
    "predicted_values = ['1' if pred >= best_threshold else '0' for pred in predicted_probs]"
   ]
  },
  {
   "cell_type": "code",
   "execution_count": 44,
   "metadata": {},
   "outputs": [
    {
     "name": "stdout",
     "output_type": "stream",
     "text": [
      "              precision    recall  f1-score   support\n",
      "\n",
      "           0       0.88      0.27      0.42        81\n",
      "           1       0.17      0.80      0.28        15\n",
      "\n",
      "    accuracy                           0.35        96\n",
      "   macro avg       0.52      0.54      0.35        96\n",
      "weighted avg       0.77      0.35      0.39        96\n",
      "\n"
     ]
    }
   ],
   "source": [
    "from sklearn.metrics import classification_report\n",
    "\n",
    "report= classification_report(true_values,predicted_values,labels=['0','1'])\n",
    "\n",
    "print(report)"
   ]
  },
  {
   "cell_type": "code",
   "execution_count": 46,
   "metadata": {},
   "outputs": [
    {
     "name": "stdout",
     "output_type": "stream",
     "text": [
      "+--------+------------+\n",
      "| TYS    |   phi(TYS) |\n",
      "+========+============+\n",
      "| TYS(0) |     0.8979 |\n",
      "+--------+------------+\n",
      "| TYS(1) |     0.1021 |\n",
      "+--------+------------+\n"
     ]
    }
   ],
   "source": [
    "# Computing the probability of bronc given smoke=no.\n",
    "infer = VariableElimination(model_2)\n",
    "\n",
    "glu_infer = infer.query(variables=['TYS'], evidence={'A':1})\n",
    "print(glu_infer)"
   ]
  },
  {
   "cell_type": "code",
   "execution_count": null,
   "metadata": {},
   "outputs": [],
   "source": []
  }
 ],
 "metadata": {
  "kernelspec": {
   "display_name": "bayes_env",
   "language": "python",
   "name": "python3"
  },
  "language_info": {
   "codemirror_mode": {
    "name": "ipython",
    "version": 3
   },
   "file_extension": ".py",
   "mimetype": "text/x-python",
   "name": "python",
   "nbconvert_exporter": "python",
   "pygments_lexer": "ipython3",
   "version": "3.12.8"
  }
 },
 "nbformat": 4,
 "nbformat_minor": 2
}
