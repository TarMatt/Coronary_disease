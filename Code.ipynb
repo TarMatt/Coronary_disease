{
 "cells": [
  {
   "cell_type": "markdown",
   "metadata": {},
   "source": [
    "# Primi test sul dataframe per capire che fare \n"
   ]
  },
  {
   "cell_type": "code",
   "execution_count": 178,
   "metadata": {},
   "outputs": [],
   "source": [
    "import pandas as pd \n",
    "from sklearn.preprocessing import LabelEncoder"
   ]
  },
  {
   "cell_type": "code",
   "execution_count": 179,
   "metadata": {},
   "outputs": [],
   "source": [
    "from pgmpy.estimators import HillClimbSearch, BicScore, PC, AICScore\n",
    "from pgmpy.models import BayesianNetwork\n",
    "\n"
   ]
  },
  {
   "cell_type": "code",
   "execution_count": 180,
   "metadata": {},
   "outputs": [
    {
     "data": {
      "text/plain": [
       "(3390, 16)"
      ]
     },
     "execution_count": 180,
     "metadata": {},
     "output_type": "execute_result"
    }
   ],
   "source": [
    "dataframe = pd.read_csv('Cardiovascular_risk.csv',index_col=0)\n",
    "dataframe.shape"
   ]
  },
  {
   "cell_type": "code",
   "execution_count": 181,
   "metadata": {},
   "outputs": [
    {
     "data": {
      "text/html": [
       "<div>\n",
       "<style scoped>\n",
       "    .dataframe tbody tr th:only-of-type {\n",
       "        vertical-align: middle;\n",
       "    }\n",
       "\n",
       "    .dataframe tbody tr th {\n",
       "        vertical-align: top;\n",
       "    }\n",
       "\n",
       "    .dataframe thead th {\n",
       "        text-align: right;\n",
       "    }\n",
       "</style>\n",
       "<table border=\"1\" class=\"dataframe\">\n",
       "  <thead>\n",
       "    <tr style=\"text-align: right;\">\n",
       "      <th></th>\n",
       "      <th>age</th>\n",
       "      <th>education</th>\n",
       "      <th>sex</th>\n",
       "      <th>is_smoking</th>\n",
       "      <th>cigsPerDay</th>\n",
       "      <th>BPMeds</th>\n",
       "      <th>prevalentStroke</th>\n",
       "      <th>prevalentHyp</th>\n",
       "      <th>diabetes</th>\n",
       "      <th>totChol</th>\n",
       "      <th>sysBP</th>\n",
       "      <th>diaBP</th>\n",
       "      <th>BMI</th>\n",
       "      <th>heartRate</th>\n",
       "      <th>glucose</th>\n",
       "      <th>TenYearCHD</th>\n",
       "    </tr>\n",
       "    <tr>\n",
       "      <th>id</th>\n",
       "      <th></th>\n",
       "      <th></th>\n",
       "      <th></th>\n",
       "      <th></th>\n",
       "      <th></th>\n",
       "      <th></th>\n",
       "      <th></th>\n",
       "      <th></th>\n",
       "      <th></th>\n",
       "      <th></th>\n",
       "      <th></th>\n",
       "      <th></th>\n",
       "      <th></th>\n",
       "      <th></th>\n",
       "      <th></th>\n",
       "      <th></th>\n",
       "    </tr>\n",
       "  </thead>\n",
       "  <tbody>\n",
       "    <tr>\n",
       "      <th>0</th>\n",
       "      <td>64</td>\n",
       "      <td>2.0</td>\n",
       "      <td>F</td>\n",
       "      <td>YES</td>\n",
       "      <td>3.0</td>\n",
       "      <td>0.0</td>\n",
       "      <td>0</td>\n",
       "      <td>0</td>\n",
       "      <td>0</td>\n",
       "      <td>221.0</td>\n",
       "      <td>148.0</td>\n",
       "      <td>85.0</td>\n",
       "      <td>NaN</td>\n",
       "      <td>90.0</td>\n",
       "      <td>80.0</td>\n",
       "      <td>1</td>\n",
       "    </tr>\n",
       "    <tr>\n",
       "      <th>1</th>\n",
       "      <td>36</td>\n",
       "      <td>4.0</td>\n",
       "      <td>M</td>\n",
       "      <td>NO</td>\n",
       "      <td>0.0</td>\n",
       "      <td>0.0</td>\n",
       "      <td>0</td>\n",
       "      <td>1</td>\n",
       "      <td>0</td>\n",
       "      <td>212.0</td>\n",
       "      <td>168.0</td>\n",
       "      <td>98.0</td>\n",
       "      <td>29.77</td>\n",
       "      <td>72.0</td>\n",
       "      <td>75.0</td>\n",
       "      <td>0</td>\n",
       "    </tr>\n",
       "    <tr>\n",
       "      <th>2</th>\n",
       "      <td>46</td>\n",
       "      <td>1.0</td>\n",
       "      <td>F</td>\n",
       "      <td>YES</td>\n",
       "      <td>10.0</td>\n",
       "      <td>0.0</td>\n",
       "      <td>0</td>\n",
       "      <td>0</td>\n",
       "      <td>0</td>\n",
       "      <td>250.0</td>\n",
       "      <td>116.0</td>\n",
       "      <td>71.0</td>\n",
       "      <td>20.35</td>\n",
       "      <td>88.0</td>\n",
       "      <td>94.0</td>\n",
       "      <td>0</td>\n",
       "    </tr>\n",
       "    <tr>\n",
       "      <th>3</th>\n",
       "      <td>50</td>\n",
       "      <td>1.0</td>\n",
       "      <td>M</td>\n",
       "      <td>YES</td>\n",
       "      <td>20.0</td>\n",
       "      <td>0.0</td>\n",
       "      <td>0</td>\n",
       "      <td>1</td>\n",
       "      <td>0</td>\n",
       "      <td>233.0</td>\n",
       "      <td>158.0</td>\n",
       "      <td>88.0</td>\n",
       "      <td>28.26</td>\n",
       "      <td>68.0</td>\n",
       "      <td>94.0</td>\n",
       "      <td>1</td>\n",
       "    </tr>\n",
       "    <tr>\n",
       "      <th>4</th>\n",
       "      <td>64</td>\n",
       "      <td>1.0</td>\n",
       "      <td>F</td>\n",
       "      <td>YES</td>\n",
       "      <td>30.0</td>\n",
       "      <td>0.0</td>\n",
       "      <td>0</td>\n",
       "      <td>0</td>\n",
       "      <td>0</td>\n",
       "      <td>241.0</td>\n",
       "      <td>136.5</td>\n",
       "      <td>85.0</td>\n",
       "      <td>26.42</td>\n",
       "      <td>70.0</td>\n",
       "      <td>77.0</td>\n",
       "      <td>0</td>\n",
       "    </tr>\n",
       "    <tr>\n",
       "      <th>...</th>\n",
       "      <td>...</td>\n",
       "      <td>...</td>\n",
       "      <td>...</td>\n",
       "      <td>...</td>\n",
       "      <td>...</td>\n",
       "      <td>...</td>\n",
       "      <td>...</td>\n",
       "      <td>...</td>\n",
       "      <td>...</td>\n",
       "      <td>...</td>\n",
       "      <td>...</td>\n",
       "      <td>...</td>\n",
       "      <td>...</td>\n",
       "      <td>...</td>\n",
       "      <td>...</td>\n",
       "      <td>...</td>\n",
       "    </tr>\n",
       "    <tr>\n",
       "      <th>3385</th>\n",
       "      <td>60</td>\n",
       "      <td>1.0</td>\n",
       "      <td>F</td>\n",
       "      <td>NO</td>\n",
       "      <td>0.0</td>\n",
       "      <td>0.0</td>\n",
       "      <td>0</td>\n",
       "      <td>0</td>\n",
       "      <td>0</td>\n",
       "      <td>261.0</td>\n",
       "      <td>123.5</td>\n",
       "      <td>79.0</td>\n",
       "      <td>29.28</td>\n",
       "      <td>70.0</td>\n",
       "      <td>103.0</td>\n",
       "      <td>0</td>\n",
       "    </tr>\n",
       "    <tr>\n",
       "      <th>3386</th>\n",
       "      <td>46</td>\n",
       "      <td>1.0</td>\n",
       "      <td>F</td>\n",
       "      <td>NO</td>\n",
       "      <td>0.0</td>\n",
       "      <td>0.0</td>\n",
       "      <td>0</td>\n",
       "      <td>0</td>\n",
       "      <td>0</td>\n",
       "      <td>199.0</td>\n",
       "      <td>102.0</td>\n",
       "      <td>56.0</td>\n",
       "      <td>21.96</td>\n",
       "      <td>80.0</td>\n",
       "      <td>84.0</td>\n",
       "      <td>0</td>\n",
       "    </tr>\n",
       "    <tr>\n",
       "      <th>3387</th>\n",
       "      <td>44</td>\n",
       "      <td>3.0</td>\n",
       "      <td>M</td>\n",
       "      <td>YES</td>\n",
       "      <td>3.0</td>\n",
       "      <td>0.0</td>\n",
       "      <td>0</td>\n",
       "      <td>1</td>\n",
       "      <td>0</td>\n",
       "      <td>352.0</td>\n",
       "      <td>164.0</td>\n",
       "      <td>119.0</td>\n",
       "      <td>28.92</td>\n",
       "      <td>73.0</td>\n",
       "      <td>72.0</td>\n",
       "      <td>1</td>\n",
       "    </tr>\n",
       "    <tr>\n",
       "      <th>3388</th>\n",
       "      <td>60</td>\n",
       "      <td>1.0</td>\n",
       "      <td>M</td>\n",
       "      <td>NO</td>\n",
       "      <td>0.0</td>\n",
       "      <td>NaN</td>\n",
       "      <td>0</td>\n",
       "      <td>1</td>\n",
       "      <td>0</td>\n",
       "      <td>191.0</td>\n",
       "      <td>167.0</td>\n",
       "      <td>105.0</td>\n",
       "      <td>23.01</td>\n",
       "      <td>80.0</td>\n",
       "      <td>85.0</td>\n",
       "      <td>0</td>\n",
       "    </tr>\n",
       "    <tr>\n",
       "      <th>3389</th>\n",
       "      <td>54</td>\n",
       "      <td>3.0</td>\n",
       "      <td>F</td>\n",
       "      <td>NO</td>\n",
       "      <td>0.0</td>\n",
       "      <td>0.0</td>\n",
       "      <td>0</td>\n",
       "      <td>0</td>\n",
       "      <td>0</td>\n",
       "      <td>288.0</td>\n",
       "      <td>124.0</td>\n",
       "      <td>77.0</td>\n",
       "      <td>29.88</td>\n",
       "      <td>79.0</td>\n",
       "      <td>92.0</td>\n",
       "      <td>0</td>\n",
       "    </tr>\n",
       "  </tbody>\n",
       "</table>\n",
       "<p>3390 rows × 16 columns</p>\n",
       "</div>"
      ],
      "text/plain": [
       "      age  education sex is_smoking  cigsPerDay  BPMeds  prevalentStroke  \\\n",
       "id                                                                         \n",
       "0      64        2.0   F        YES         3.0     0.0                0   \n",
       "1      36        4.0   M         NO         0.0     0.0                0   \n",
       "2      46        1.0   F        YES        10.0     0.0                0   \n",
       "3      50        1.0   M        YES        20.0     0.0                0   \n",
       "4      64        1.0   F        YES        30.0     0.0                0   \n",
       "...   ...        ...  ..        ...         ...     ...              ...   \n",
       "3385   60        1.0   F         NO         0.0     0.0                0   \n",
       "3386   46        1.0   F         NO         0.0     0.0                0   \n",
       "3387   44        3.0   M        YES         3.0     0.0                0   \n",
       "3388   60        1.0   M         NO         0.0     NaN                0   \n",
       "3389   54        3.0   F         NO         0.0     0.0                0   \n",
       "\n",
       "      prevalentHyp  diabetes  totChol  sysBP  diaBP    BMI  heartRate  \\\n",
       "id                                                                      \n",
       "0                0         0    221.0  148.0   85.0    NaN       90.0   \n",
       "1                1         0    212.0  168.0   98.0  29.77       72.0   \n",
       "2                0         0    250.0  116.0   71.0  20.35       88.0   \n",
       "3                1         0    233.0  158.0   88.0  28.26       68.0   \n",
       "4                0         0    241.0  136.5   85.0  26.42       70.0   \n",
       "...            ...       ...      ...    ...    ...    ...        ...   \n",
       "3385             0         0    261.0  123.5   79.0  29.28       70.0   \n",
       "3386             0         0    199.0  102.0   56.0  21.96       80.0   \n",
       "3387             1         0    352.0  164.0  119.0  28.92       73.0   \n",
       "3388             1         0    191.0  167.0  105.0  23.01       80.0   \n",
       "3389             0         0    288.0  124.0   77.0  29.88       79.0   \n",
       "\n",
       "      glucose  TenYearCHD  \n",
       "id                         \n",
       "0        80.0           1  \n",
       "1        75.0           0  \n",
       "2        94.0           0  \n",
       "3        94.0           1  \n",
       "4        77.0           0  \n",
       "...       ...         ...  \n",
       "3385    103.0           0  \n",
       "3386     84.0           0  \n",
       "3387     72.0           1  \n",
       "3388     85.0           0  \n",
       "3389     92.0           0  \n",
       "\n",
       "[3390 rows x 16 columns]"
      ]
     },
     "execution_count": 181,
     "metadata": {},
     "output_type": "execute_result"
    }
   ],
   "source": [
    "dataframe"
   ]
  },
  {
   "cell_type": "code",
   "execution_count": 182,
   "metadata": {},
   "outputs": [],
   "source": [
    "discrete_feat = ['education','sex','is_smoking','BPMeds','prevalentStroke','prevalentHyp','diabetes','TenYearCHD']\n",
    "continuous_feat = ['age','totChol','sysBP','diaBP','BMI','heartRate','glucose']"
   ]
  },
  {
   "cell_type": "code",
   "execution_count": 183,
   "metadata": {},
   "outputs": [],
   "source": [
    "continuous_data = dataframe[continuous_feat]\n",
    "discrete_data = dataframe[discrete_feat]"
   ]
  },
  {
   "cell_type": "code",
   "execution_count": 184,
   "metadata": {},
   "outputs": [
    {
     "data": {
      "text/html": [
       "<div>\n",
       "<style scoped>\n",
       "    .dataframe tbody tr th:only-of-type {\n",
       "        vertical-align: middle;\n",
       "    }\n",
       "\n",
       "    .dataframe tbody tr th {\n",
       "        vertical-align: top;\n",
       "    }\n",
       "\n",
       "    .dataframe thead th {\n",
       "        text-align: right;\n",
       "    }\n",
       "</style>\n",
       "<table border=\"1\" class=\"dataframe\">\n",
       "  <thead>\n",
       "    <tr style=\"text-align: right;\">\n",
       "      <th></th>\n",
       "      <th>age</th>\n",
       "      <th>totChol</th>\n",
       "      <th>sysBP</th>\n",
       "      <th>diaBP</th>\n",
       "      <th>BMI</th>\n",
       "      <th>heartRate</th>\n",
       "      <th>glucose</th>\n",
       "    </tr>\n",
       "    <tr>\n",
       "      <th>id</th>\n",
       "      <th></th>\n",
       "      <th></th>\n",
       "      <th></th>\n",
       "      <th></th>\n",
       "      <th></th>\n",
       "      <th></th>\n",
       "      <th></th>\n",
       "    </tr>\n",
       "  </thead>\n",
       "  <tbody>\n",
       "    <tr>\n",
       "      <th>0</th>\n",
       "      <td>64</td>\n",
       "      <td>221.0</td>\n",
       "      <td>148.0</td>\n",
       "      <td>85.0</td>\n",
       "      <td>NaN</td>\n",
       "      <td>90.0</td>\n",
       "      <td>80.0</td>\n",
       "    </tr>\n",
       "    <tr>\n",
       "      <th>1</th>\n",
       "      <td>36</td>\n",
       "      <td>212.0</td>\n",
       "      <td>168.0</td>\n",
       "      <td>98.0</td>\n",
       "      <td>29.77</td>\n",
       "      <td>72.0</td>\n",
       "      <td>75.0</td>\n",
       "    </tr>\n",
       "    <tr>\n",
       "      <th>2</th>\n",
       "      <td>46</td>\n",
       "      <td>250.0</td>\n",
       "      <td>116.0</td>\n",
       "      <td>71.0</td>\n",
       "      <td>20.35</td>\n",
       "      <td>88.0</td>\n",
       "      <td>94.0</td>\n",
       "    </tr>\n",
       "    <tr>\n",
       "      <th>3</th>\n",
       "      <td>50</td>\n",
       "      <td>233.0</td>\n",
       "      <td>158.0</td>\n",
       "      <td>88.0</td>\n",
       "      <td>28.26</td>\n",
       "      <td>68.0</td>\n",
       "      <td>94.0</td>\n",
       "    </tr>\n",
       "    <tr>\n",
       "      <th>4</th>\n",
       "      <td>64</td>\n",
       "      <td>241.0</td>\n",
       "      <td>136.5</td>\n",
       "      <td>85.0</td>\n",
       "      <td>26.42</td>\n",
       "      <td>70.0</td>\n",
       "      <td>77.0</td>\n",
       "    </tr>\n",
       "  </tbody>\n",
       "</table>\n",
       "</div>"
      ],
      "text/plain": [
       "    age  totChol  sysBP  diaBP    BMI  heartRate  glucose\n",
       "id                                                       \n",
       "0    64    221.0  148.0   85.0    NaN       90.0     80.0\n",
       "1    36    212.0  168.0   98.0  29.77       72.0     75.0\n",
       "2    46    250.0  116.0   71.0  20.35       88.0     94.0\n",
       "3    50    233.0  158.0   88.0  28.26       68.0     94.0\n",
       "4    64    241.0  136.5   85.0  26.42       70.0     77.0"
      ]
     },
     "execution_count": 184,
     "metadata": {},
     "output_type": "execute_result"
    }
   ],
   "source": [
    "continuous_data.head()"
   ]
  },
  {
   "cell_type": "code",
   "execution_count": 185,
   "metadata": {},
   "outputs": [
    {
     "data": {
      "text/html": [
       "<pre style=\"white-space:pre;overflow-x:auto;line-height:normal;font-family:Menlo,'DejaVu Sans Mono',consolas,'Courier New',monospace\">╭──────────────────────────────────────────────── skimpy summary ─────────────────────────────────────────────────╮\n",
       "│ <span style=\"font-style: italic\">         Data Summary         </span> <span style=\"font-style: italic\">      Data Types       </span>                                                          │\n",
       "│ ┏━━━━━━━━━━━━━━━━━━━┳━━━━━━━━┓ ┏━━━━━━━━━━━━━┳━━━━━━━┓                                                          │\n",
       "│ ┃<span style=\"color: #008080; text-decoration-color: #008080; font-weight: bold\"> Dataframe         </span>┃<span style=\"color: #008080; text-decoration-color: #008080; font-weight: bold\"> Values </span>┃ ┃<span style=\"color: #008080; text-decoration-color: #008080; font-weight: bold\"> Column Type </span>┃<span style=\"color: #008080; text-decoration-color: #008080; font-weight: bold\"> Count </span>┃                                                          │\n",
       "│ ┡━━━━━━━━━━━━━━━━━━━╇━━━━━━━━┩ ┡━━━━━━━━━━━━━╇━━━━━━━┩                                                          │\n",
       "│ │ Number of rows    │ 3390   │ │ int64       │ 4     │                                                          │\n",
       "│ │ Number of columns │ 8      │ │ float64     │ 2     │                                                          │\n",
       "│ └───────────────────┴────────┘ │ string      │ 2     │                                                          │\n",
       "│                                └─────────────┴───────┘                                                          │\n",
       "│ <span style=\"font-style: italic\">                                                    number                                                    </span>  │\n",
       "│ ┏━━━━━━━━━━━━━━━━━━━┳━━━━━┳━━━━━━━━━━━━━━━━━━━━━┳━━━━━━━━━━┳━━━━━━━━━━┳━━━━┳━━━━━┳━━━━━┳━━━━━┳━━━━━━┳━━━━━━━━┓  │\n",
       "│ ┃<span style=\"font-weight: bold\"> column            </span>┃<span style=\"font-weight: bold\"> NA  </span>┃<span style=\"font-weight: bold\"> NA %                </span>┃<span style=\"font-weight: bold\"> mean     </span>┃<span style=\"font-weight: bold\"> sd       </span>┃<span style=\"font-weight: bold\"> p0 </span>┃<span style=\"font-weight: bold\"> p25 </span>┃<span style=\"font-weight: bold\"> p50 </span>┃<span style=\"font-weight: bold\"> p75 </span>┃<span style=\"font-weight: bold\"> p100 </span>┃<span style=\"font-weight: bold\"> hist   </span>┃  │\n",
       "│ ┡━━━━━━━━━━━━━━━━━━━╇━━━━━╇━━━━━━━━━━━━━━━━━━━━━╇━━━━━━━━━━╇━━━━━━━━━━╇━━━━╇━━━━━╇━━━━━╇━━━━━╇━━━━━━╇━━━━━━━━┩  │\n",
       "│ │ <span style=\"color: #af87ff; text-decoration-color: #af87ff\">education        </span> │ <span style=\"color: #008080; text-decoration-color: #008080\"> 87</span> │ <span style=\"color: #008080; text-decoration-color: #008080\">  2.566371681415929</span> │ <span style=\"color: #008080; text-decoration-color: #008080\">   1.971</span> │ <span style=\"color: #008080; text-decoration-color: #008080\">   1.019</span> │ <span style=\"color: #008080; text-decoration-color: #008080\"> 1</span> │ <span style=\"color: #008080; text-decoration-color: #008080\">  1</span> │ <span style=\"color: #008080; text-decoration-color: #008080\">  2</span> │ <span style=\"color: #008080; text-decoration-color: #008080\">  3</span> │ <span style=\"color: #008080; text-decoration-color: #008080\">   4</span> │ <span style=\"color: #008000; text-decoration-color: #008000\">█ ▆ ▃▂</span> │  │\n",
       "│ │ <span style=\"color: #af87ff; text-decoration-color: #af87ff\">BPMeds           </span> │ <span style=\"color: #008080; text-decoration-color: #008080\"> 44</span> │ <span style=\"color: #008080; text-decoration-color: #008080\"> 1.2979351032448379</span> │ <span style=\"color: #008080; text-decoration-color: #008080\"> 0.02989</span> │ <span style=\"color: #008080; text-decoration-color: #008080\">  0.1703</span> │ <span style=\"color: #008080; text-decoration-color: #008080\"> 0</span> │ <span style=\"color: #008080; text-decoration-color: #008080\">  0</span> │ <span style=\"color: #008080; text-decoration-color: #008080\">  0</span> │ <span style=\"color: #008080; text-decoration-color: #008080\">  0</span> │ <span style=\"color: #008080; text-decoration-color: #008080\">   1</span> │ <span style=\"color: #008000; text-decoration-color: #008000\">  █   </span> │  │\n",
       "│ │ <span style=\"color: #af87ff; text-decoration-color: #af87ff\">prevalentStroke  </span> │ <span style=\"color: #008080; text-decoration-color: #008080\">  0</span> │ <span style=\"color: #008080; text-decoration-color: #008080\">                  0</span> │ <span style=\"color: #008080; text-decoration-color: #008080\"> 0.00649</span> │ <span style=\"color: #008080; text-decoration-color: #008080\"> 0.08031</span> │ <span style=\"color: #008080; text-decoration-color: #008080\"> 0</span> │ <span style=\"color: #008080; text-decoration-color: #008080\">  0</span> │ <span style=\"color: #008080; text-decoration-color: #008080\">  0</span> │ <span style=\"color: #008080; text-decoration-color: #008080\">  0</span> │ <span style=\"color: #008080; text-decoration-color: #008080\">   1</span> │ <span style=\"color: #008000; text-decoration-color: #008000\">  █   </span> │  │\n",
       "│ │ <span style=\"color: #af87ff; text-decoration-color: #af87ff\">prevalentHyp     </span> │ <span style=\"color: #008080; text-decoration-color: #008080\">  0</span> │ <span style=\"color: #008080; text-decoration-color: #008080\">                  0</span> │ <span style=\"color: #008080; text-decoration-color: #008080\">  0.3153</span> │ <span style=\"color: #008080; text-decoration-color: #008080\">  0.4647</span> │ <span style=\"color: #008080; text-decoration-color: #008080\"> 0</span> │ <span style=\"color: #008080; text-decoration-color: #008080\">  0</span> │ <span style=\"color: #008080; text-decoration-color: #008080\">  0</span> │ <span style=\"color: #008080; text-decoration-color: #008080\">  1</span> │ <span style=\"color: #008080; text-decoration-color: #008080\">   1</span> │ <span style=\"color: #008000; text-decoration-color: #008000\">█    ▄</span> │  │\n",
       "│ │ <span style=\"color: #af87ff; text-decoration-color: #af87ff\">diabetes         </span> │ <span style=\"color: #008080; text-decoration-color: #008080\">  0</span> │ <span style=\"color: #008080; text-decoration-color: #008080\">                  0</span> │ <span style=\"color: #008080; text-decoration-color: #008080\"> 0.02566</span> │ <span style=\"color: #008080; text-decoration-color: #008080\">  0.1582</span> │ <span style=\"color: #008080; text-decoration-color: #008080\"> 0</span> │ <span style=\"color: #008080; text-decoration-color: #008080\">  0</span> │ <span style=\"color: #008080; text-decoration-color: #008080\">  0</span> │ <span style=\"color: #008080; text-decoration-color: #008080\">  0</span> │ <span style=\"color: #008080; text-decoration-color: #008080\">   1</span> │ <span style=\"color: #008000; text-decoration-color: #008000\">  █   </span> │  │\n",
       "│ │ <span style=\"color: #af87ff; text-decoration-color: #af87ff\">TenYearCHD       </span> │ <span style=\"color: #008080; text-decoration-color: #008080\">  0</span> │ <span style=\"color: #008080; text-decoration-color: #008080\">                  0</span> │ <span style=\"color: #008080; text-decoration-color: #008080\">  0.1507</span> │ <span style=\"color: #008080; text-decoration-color: #008080\">  0.3578</span> │ <span style=\"color: #008080; text-decoration-color: #008080\"> 0</span> │ <span style=\"color: #008080; text-decoration-color: #008080\">  0</span> │ <span style=\"color: #008080; text-decoration-color: #008080\">  0</span> │ <span style=\"color: #008080; text-decoration-color: #008080\">  0</span> │ <span style=\"color: #008080; text-decoration-color: #008080\">   1</span> │ <span style=\"color: #008000; text-decoration-color: #008000\">█    ▁</span> │  │\n",
       "│ └───────────────────┴─────┴─────────────────────┴──────────┴──────────┴────┴─────┴─────┴─────┴──────┴────────┘  │\n",
       "│ <span style=\"font-style: italic\">                                                    string                                                    </span>  │\n",
       "│ ┏━━━━━━━━━━━━━┳━━━━━┳━━━━━━━┳━━━━━━━━━━━┳━━━━━━━━━━┳━━━━━┳━━━━━┳━━━━━━━━━━━━━━━┳━━━━━━━━━━━━━━━┳━━━━━━━━━━━━━┓  │\n",
       "│ ┃<span style=\"font-weight: bold\"> column      </span>┃<span style=\"font-weight: bold\"> NA  </span>┃<span style=\"font-weight: bold\"> NA %  </span>┃<span style=\"font-weight: bold\"> shortest  </span>┃<span style=\"font-weight: bold\"> longest  </span>┃<span style=\"font-weight: bold\"> min </span>┃<span style=\"font-weight: bold\"> max </span>┃<span style=\"font-weight: bold\"> chars per row </span>┃<span style=\"font-weight: bold\"> words per row </span>┃<span style=\"font-weight: bold\"> total words </span>┃  │\n",
       "│ ┡━━━━━━━━━━━━━╇━━━━━╇━━━━━━━╇━━━━━━━━━━━╇━━━━━━━━━━╇━━━━━╇━━━━━╇━━━━━━━━━━━━━━━╇━━━━━━━━━━━━━━━╇━━━━━━━━━━━━━┩  │\n",
       "│ │ <span style=\"color: #af87ff; text-decoration-color: #af87ff\">sex        </span> │ <span style=\"color: #008080; text-decoration-color: #008080\">  0</span> │ <span style=\"color: #008080; text-decoration-color: #008080\">    0</span> │ <span style=\"color: #af87ff; text-decoration-color: #af87ff\">F        </span> │ <span style=\"color: #af87ff; text-decoration-color: #af87ff\">F       </span> │ <span style=\"color: #af87ff; text-decoration-color: #af87ff\">F  </span> │ <span style=\"color: #af87ff; text-decoration-color: #af87ff\">M  </span> │ <span style=\"color: #008080; text-decoration-color: #008080\">            1</span> │ <span style=\"color: #008080; text-decoration-color: #008080\">            1</span> │ <span style=\"color: #008080; text-decoration-color: #008080\">       3390</span> │  │\n",
       "│ │ <span style=\"color: #af87ff; text-decoration-color: #af87ff\">is_smoking </span> │ <span style=\"color: #008080; text-decoration-color: #008080\">  0</span> │ <span style=\"color: #008080; text-decoration-color: #008080\">    0</span> │ <span style=\"color: #af87ff; text-decoration-color: #af87ff\">NO       </span> │ <span style=\"color: #af87ff; text-decoration-color: #af87ff\">YES     </span> │ <span style=\"color: #af87ff; text-decoration-color: #af87ff\">NO </span> │ <span style=\"color: #af87ff; text-decoration-color: #af87ff\">YES</span> │ <span style=\"color: #008080; text-decoration-color: #008080\">          2.5</span> │ <span style=\"color: #008080; text-decoration-color: #008080\">            1</span> │ <span style=\"color: #008080; text-decoration-color: #008080\">       3390</span> │  │\n",
       "│ └─────────────┴─────┴───────┴───────────┴──────────┴─────┴─────┴───────────────┴───────────────┴─────────────┘  │\n",
       "╰────────────────────────────────────────────────────── End ──────────────────────────────────────────────────────╯\n",
       "</pre>\n"
      ],
      "text/plain": [
       "╭──────────────────────────────────────────────── skimpy summary ─────────────────────────────────────────────────╮\n",
       "│ \u001b[3m         Data Summary         \u001b[0m \u001b[3m      Data Types       \u001b[0m                                                          │\n",
       "│ ┏━━━━━━━━━━━━━━━━━━━┳━━━━━━━━┓ ┏━━━━━━━━━━━━━┳━━━━━━━┓                                                          │\n",
       "│ ┃\u001b[1;36m \u001b[0m\u001b[1;36mDataframe        \u001b[0m\u001b[1;36m \u001b[0m┃\u001b[1;36m \u001b[0m\u001b[1;36mValues\u001b[0m\u001b[1;36m \u001b[0m┃ ┃\u001b[1;36m \u001b[0m\u001b[1;36mColumn Type\u001b[0m\u001b[1;36m \u001b[0m┃\u001b[1;36m \u001b[0m\u001b[1;36mCount\u001b[0m\u001b[1;36m \u001b[0m┃                                                          │\n",
       "│ ┡━━━━━━━━━━━━━━━━━━━╇━━━━━━━━┩ ┡━━━━━━━━━━━━━╇━━━━━━━┩                                                          │\n",
       "│ │ Number of rows    │ 3390   │ │ int64       │ 4     │                                                          │\n",
       "│ │ Number of columns │ 8      │ │ float64     │ 2     │                                                          │\n",
       "│ └───────────────────┴────────┘ │ string      │ 2     │                                                          │\n",
       "│                                └─────────────┴───────┘                                                          │\n",
       "│ \u001b[3m                                                    number                                                    \u001b[0m  │\n",
       "│ ┏━━━━━━━━━━━━━━━━━━━┳━━━━━┳━━━━━━━━━━━━━━━━━━━━━┳━━━━━━━━━━┳━━━━━━━━━━┳━━━━┳━━━━━┳━━━━━┳━━━━━┳━━━━━━┳━━━━━━━━┓  │\n",
       "│ ┃\u001b[1m \u001b[0m\u001b[1mcolumn           \u001b[0m\u001b[1m \u001b[0m┃\u001b[1m \u001b[0m\u001b[1mNA \u001b[0m\u001b[1m \u001b[0m┃\u001b[1m \u001b[0m\u001b[1mNA %               \u001b[0m\u001b[1m \u001b[0m┃\u001b[1m \u001b[0m\u001b[1mmean    \u001b[0m\u001b[1m \u001b[0m┃\u001b[1m \u001b[0m\u001b[1msd      \u001b[0m\u001b[1m \u001b[0m┃\u001b[1m \u001b[0m\u001b[1mp0\u001b[0m\u001b[1m \u001b[0m┃\u001b[1m \u001b[0m\u001b[1mp25\u001b[0m\u001b[1m \u001b[0m┃\u001b[1m \u001b[0m\u001b[1mp50\u001b[0m\u001b[1m \u001b[0m┃\u001b[1m \u001b[0m\u001b[1mp75\u001b[0m\u001b[1m \u001b[0m┃\u001b[1m \u001b[0m\u001b[1mp100\u001b[0m\u001b[1m \u001b[0m┃\u001b[1m \u001b[0m\u001b[1mhist  \u001b[0m\u001b[1m \u001b[0m┃  │\n",
       "│ ┡━━━━━━━━━━━━━━━━━━━╇━━━━━╇━━━━━━━━━━━━━━━━━━━━━╇━━━━━━━━━━╇━━━━━━━━━━╇━━━━╇━━━━━╇━━━━━╇━━━━━╇━━━━━━╇━━━━━━━━┩  │\n",
       "│ │ \u001b[38;5;141meducation        \u001b[0m │ \u001b[36m 87\u001b[0m │ \u001b[36m  2.566371681415929\u001b[0m │ \u001b[36m   1.971\u001b[0m │ \u001b[36m   1.019\u001b[0m │ \u001b[36m 1\u001b[0m │ \u001b[36m  1\u001b[0m │ \u001b[36m  2\u001b[0m │ \u001b[36m  3\u001b[0m │ \u001b[36m   4\u001b[0m │ \u001b[32m█ ▆ ▃▂\u001b[0m │  │\n",
       "│ │ \u001b[38;5;141mBPMeds           \u001b[0m │ \u001b[36m 44\u001b[0m │ \u001b[36m 1.2979351032448379\u001b[0m │ \u001b[36m 0.02989\u001b[0m │ \u001b[36m  0.1703\u001b[0m │ \u001b[36m 0\u001b[0m │ \u001b[36m  0\u001b[0m │ \u001b[36m  0\u001b[0m │ \u001b[36m  0\u001b[0m │ \u001b[36m   1\u001b[0m │ \u001b[32m  █   \u001b[0m │  │\n",
       "│ │ \u001b[38;5;141mprevalentStroke  \u001b[0m │ \u001b[36m  0\u001b[0m │ \u001b[36m                  0\u001b[0m │ \u001b[36m 0.00649\u001b[0m │ \u001b[36m 0.08031\u001b[0m │ \u001b[36m 0\u001b[0m │ \u001b[36m  0\u001b[0m │ \u001b[36m  0\u001b[0m │ \u001b[36m  0\u001b[0m │ \u001b[36m   1\u001b[0m │ \u001b[32m  █   \u001b[0m │  │\n",
       "│ │ \u001b[38;5;141mprevalentHyp     \u001b[0m │ \u001b[36m  0\u001b[0m │ \u001b[36m                  0\u001b[0m │ \u001b[36m  0.3153\u001b[0m │ \u001b[36m  0.4647\u001b[0m │ \u001b[36m 0\u001b[0m │ \u001b[36m  0\u001b[0m │ \u001b[36m  0\u001b[0m │ \u001b[36m  1\u001b[0m │ \u001b[36m   1\u001b[0m │ \u001b[32m█    ▄\u001b[0m │  │\n",
       "│ │ \u001b[38;5;141mdiabetes         \u001b[0m │ \u001b[36m  0\u001b[0m │ \u001b[36m                  0\u001b[0m │ \u001b[36m 0.02566\u001b[0m │ \u001b[36m  0.1582\u001b[0m │ \u001b[36m 0\u001b[0m │ \u001b[36m  0\u001b[0m │ \u001b[36m  0\u001b[0m │ \u001b[36m  0\u001b[0m │ \u001b[36m   1\u001b[0m │ \u001b[32m  █   \u001b[0m │  │\n",
       "│ │ \u001b[38;5;141mTenYearCHD       \u001b[0m │ \u001b[36m  0\u001b[0m │ \u001b[36m                  0\u001b[0m │ \u001b[36m  0.1507\u001b[0m │ \u001b[36m  0.3578\u001b[0m │ \u001b[36m 0\u001b[0m │ \u001b[36m  0\u001b[0m │ \u001b[36m  0\u001b[0m │ \u001b[36m  0\u001b[0m │ \u001b[36m   1\u001b[0m │ \u001b[32m█    ▁\u001b[0m │  │\n",
       "│ └───────────────────┴─────┴─────────────────────┴──────────┴──────────┴────┴─────┴─────┴─────┴──────┴────────┘  │\n",
       "│ \u001b[3m                                                    string                                                    \u001b[0m  │\n",
       "│ ┏━━━━━━━━━━━━━┳━━━━━┳━━━━━━━┳━━━━━━━━━━━┳━━━━━━━━━━┳━━━━━┳━━━━━┳━━━━━━━━━━━━━━━┳━━━━━━━━━━━━━━━┳━━━━━━━━━━━━━┓  │\n",
       "│ ┃\u001b[1m \u001b[0m\u001b[1mcolumn     \u001b[0m\u001b[1m \u001b[0m┃\u001b[1m \u001b[0m\u001b[1mNA \u001b[0m\u001b[1m \u001b[0m┃\u001b[1m \u001b[0m\u001b[1mNA % \u001b[0m\u001b[1m \u001b[0m┃\u001b[1m \u001b[0m\u001b[1mshortest \u001b[0m\u001b[1m \u001b[0m┃\u001b[1m \u001b[0m\u001b[1mlongest \u001b[0m\u001b[1m \u001b[0m┃\u001b[1m \u001b[0m\u001b[1mmin\u001b[0m\u001b[1m \u001b[0m┃\u001b[1m \u001b[0m\u001b[1mmax\u001b[0m\u001b[1m \u001b[0m┃\u001b[1m \u001b[0m\u001b[1mchars per row\u001b[0m\u001b[1m \u001b[0m┃\u001b[1m \u001b[0m\u001b[1mwords per row\u001b[0m\u001b[1m \u001b[0m┃\u001b[1m \u001b[0m\u001b[1mtotal words\u001b[0m\u001b[1m \u001b[0m┃  │\n",
       "│ ┡━━━━━━━━━━━━━╇━━━━━╇━━━━━━━╇━━━━━━━━━━━╇━━━━━━━━━━╇━━━━━╇━━━━━╇━━━━━━━━━━━━━━━╇━━━━━━━━━━━━━━━╇━━━━━━━━━━━━━┩  │\n",
       "│ │ \u001b[38;5;141msex        \u001b[0m │ \u001b[36m  0\u001b[0m │ \u001b[36m    0\u001b[0m │ \u001b[38;5;141mF        \u001b[0m │ \u001b[38;5;141mF       \u001b[0m │ \u001b[38;5;141mF  \u001b[0m │ \u001b[38;5;141mM  \u001b[0m │ \u001b[36m            1\u001b[0m │ \u001b[36m            1\u001b[0m │ \u001b[36m       3390\u001b[0m │  │\n",
       "│ │ \u001b[38;5;141mis_smoking \u001b[0m │ \u001b[36m  0\u001b[0m │ \u001b[36m    0\u001b[0m │ \u001b[38;5;141mNO       \u001b[0m │ \u001b[38;5;141mYES     \u001b[0m │ \u001b[38;5;141mNO \u001b[0m │ \u001b[38;5;141mYES\u001b[0m │ \u001b[36m          2.5\u001b[0m │ \u001b[36m            1\u001b[0m │ \u001b[36m       3390\u001b[0m │  │\n",
       "│ └─────────────┴─────┴───────┴───────────┴──────────┴─────┴─────┴───────────────┴───────────────┴─────────────┘  │\n",
       "╰────────────────────────────────────────────────────── End ──────────────────────────────────────────────────────╯\n"
      ]
     },
     "metadata": {},
     "output_type": "display_data"
    }
   ],
   "source": [
    "from skimpy import skim\n",
    "\n",
    "skim(discrete_data)\n"
   ]
  },
  {
   "cell_type": "code",
   "execution_count": 186,
   "metadata": {},
   "outputs": [
    {
     "data": {
      "text/html": [
       "<pre style=\"white-space:pre;overflow-x:auto;line-height:normal;font-family:Menlo,'DejaVu Sans Mono',consolas,'Courier New',monospace\">╭──────────────────────────────────────────────── skimpy summary ─────────────────────────────────────────────────╮\n",
       "│ <span style=\"font-style: italic\">         Data Summary         </span> <span style=\"font-style: italic\">      Data Types       </span>                                                          │\n",
       "│ ┏━━━━━━━━━━━━━━━━━━━┳━━━━━━━━┓ ┏━━━━━━━━━━━━━┳━━━━━━━┓                                                          │\n",
       "│ ┃<span style=\"color: #008080; text-decoration-color: #008080; font-weight: bold\"> Dataframe         </span>┃<span style=\"color: #008080; text-decoration-color: #008080; font-weight: bold\"> Values </span>┃ ┃<span style=\"color: #008080; text-decoration-color: #008080; font-weight: bold\"> Column Type </span>┃<span style=\"color: #008080; text-decoration-color: #008080; font-weight: bold\"> Count </span>┃                                                          │\n",
       "│ ┡━━━━━━━━━━━━━━━━━━━╇━━━━━━━━┩ ┡━━━━━━━━━━━━━╇━━━━━━━┩                                                          │\n",
       "│ │ Number of rows    │ 3390   │ │ float64     │ 6     │                                                          │\n",
       "│ │ Number of columns │ 7      │ │ int64       │ 1     │                                                          │\n",
       "│ └───────────────────┴────────┘ └─────────────┴───────┘                                                          │\n",
       "│ <span style=\"font-style: italic\">                                                    number                                                    </span>  │\n",
       "│ ┏━━━━━━━━━━━━┳━━━━━━┳━━━━━━━━━━━━━━━━━━━━━━━┳━━━━━━━┳━━━━━━━┳━━━━━━━┳━━━━━━━┳━━━━━━━┳━━━━━━━┳━━━━━━━┳━━━━━━━━┓  │\n",
       "│ ┃<span style=\"font-weight: bold\"> column     </span>┃<span style=\"font-weight: bold\"> NA   </span>┃<span style=\"font-weight: bold\"> NA %                  </span>┃<span style=\"font-weight: bold\"> mean  </span>┃<span style=\"font-weight: bold\"> sd    </span>┃<span style=\"font-weight: bold\"> p0    </span>┃<span style=\"font-weight: bold\"> p25   </span>┃<span style=\"font-weight: bold\"> p50   </span>┃<span style=\"font-weight: bold\"> p75   </span>┃<span style=\"font-weight: bold\"> p100  </span>┃<span style=\"font-weight: bold\"> hist   </span>┃  │\n",
       "│ ┡━━━━━━━━━━━━╇━━━━━━╇━━━━━━━━━━━━━━━━━━━━━━━╇━━━━━━━╇━━━━━━━╇━━━━━━━╇━━━━━━━╇━━━━━━━╇━━━━━━━╇━━━━━━━╇━━━━━━━━┩  │\n",
       "│ │ <span style=\"color: #af87ff; text-decoration-color: #af87ff\">age       </span> │ <span style=\"color: #008080; text-decoration-color: #008080\">   0</span> │ <span style=\"color: #008080; text-decoration-color: #008080\">                    0</span> │ <span style=\"color: #008080; text-decoration-color: #008080\">49.54</span> │ <span style=\"color: #008080; text-decoration-color: #008080\">8.593</span> │ <span style=\"color: #008080; text-decoration-color: #008080\">   32</span> │ <span style=\"color: #008080; text-decoration-color: #008080\">   42</span> │ <span style=\"color: #008080; text-decoration-color: #008080\">   49</span> │ <span style=\"color: #008080; text-decoration-color: #008080\">   56</span> │ <span style=\"color: #008080; text-decoration-color: #008080\">   70</span> │ <span style=\"color: #008000; text-decoration-color: #008000\">▃█▇▇▅▂</span> │  │\n",
       "│ │ <span style=\"color: #af87ff; text-decoration-color: #af87ff\">totChol   </span> │ <span style=\"color: #008080; text-decoration-color: #008080\">  38</span> │ <span style=\"color: #008080; text-decoration-color: #008080\">     1.12094395280236</span> │ <span style=\"color: #008080; text-decoration-color: #008080\">237.1</span> │ <span style=\"color: #008080; text-decoration-color: #008080\">45.25</span> │ <span style=\"color: #008080; text-decoration-color: #008080\">  107</span> │ <span style=\"color: #008080; text-decoration-color: #008080\">  206</span> │ <span style=\"color: #008080; text-decoration-color: #008080\">  234</span> │ <span style=\"color: #008080; text-decoration-color: #008080\">  264</span> │ <span style=\"color: #008080; text-decoration-color: #008080\">  696</span> │ <span style=\"color: #008000; text-decoration-color: #008000\"> ▃█▁  </span> │  │\n",
       "│ │ <span style=\"color: #af87ff; text-decoration-color: #af87ff\">sysBP     </span> │ <span style=\"color: #008080; text-decoration-color: #008080\">   0</span> │ <span style=\"color: #008080; text-decoration-color: #008080\">                    0</span> │ <span style=\"color: #008080; text-decoration-color: #008080\">132.6</span> │ <span style=\"color: #008080; text-decoration-color: #008080\">22.29</span> │ <span style=\"color: #008080; text-decoration-color: #008080\"> 83.5</span> │ <span style=\"color: #008080; text-decoration-color: #008080\">  117</span> │ <span style=\"color: #008080; text-decoration-color: #008080\">128.5</span> │ <span style=\"color: #008080; text-decoration-color: #008080\">  144</span> │ <span style=\"color: #008080; text-decoration-color: #008080\">  295</span> │ <span style=\"color: #008000; text-decoration-color: #008000\"> ▄█▂  </span> │  │\n",
       "│ │ <span style=\"color: #af87ff; text-decoration-color: #af87ff\">diaBP     </span> │ <span style=\"color: #008080; text-decoration-color: #008080\">   0</span> │ <span style=\"color: #008080; text-decoration-color: #008080\">                    0</span> │ <span style=\"color: #008080; text-decoration-color: #008080\">82.88</span> │ <span style=\"color: #008080; text-decoration-color: #008080\">12.02</span> │ <span style=\"color: #008080; text-decoration-color: #008080\">   48</span> │ <span style=\"color: #008080; text-decoration-color: #008080\"> 74.5</span> │ <span style=\"color: #008080; text-decoration-color: #008080\">   82</span> │ <span style=\"color: #008080; text-decoration-color: #008080\">   90</span> │ <span style=\"color: #008080; text-decoration-color: #008080\">142.5</span> │ <span style=\"color: #008000; text-decoration-color: #008000\"> ▁▆█▂ </span> │  │\n",
       "│ │ <span style=\"color: #af87ff; text-decoration-color: #af87ff\">BMI       </span> │ <span style=\"color: #008080; text-decoration-color: #008080\">  14</span> │ <span style=\"color: #008080; text-decoration-color: #008080\">  0.41297935103244837</span> │ <span style=\"color: #008080; text-decoration-color: #008080\">25.79</span> │ <span style=\"color: #008080; text-decoration-color: #008080\">4.115</span> │ <span style=\"color: #008080; text-decoration-color: #008080\">15.96</span> │ <span style=\"color: #008080; text-decoration-color: #008080\">23.02</span> │ <span style=\"color: #008080; text-decoration-color: #008080\">25.38</span> │ <span style=\"color: #008080; text-decoration-color: #008080\">28.04</span> │ <span style=\"color: #008080; text-decoration-color: #008080\"> 56.8</span> │ <span style=\"color: #008000; text-decoration-color: #008000\"> ▃█▂  </span> │  │\n",
       "│ │ <span style=\"color: #af87ff; text-decoration-color: #af87ff\">heartRate </span> │ <span style=\"color: #008080; text-decoration-color: #008080\">   1</span> │ <span style=\"color: #008080; text-decoration-color: #008080\"> 0.029498525073746312</span> │ <span style=\"color: #008080; text-decoration-color: #008080\">75.98</span> │ <span style=\"color: #008080; text-decoration-color: #008080\">11.97</span> │ <span style=\"color: #008080; text-decoration-color: #008080\">   45</span> │ <span style=\"color: #008080; text-decoration-color: #008080\">   68</span> │ <span style=\"color: #008080; text-decoration-color: #008080\">   75</span> │ <span style=\"color: #008080; text-decoration-color: #008080\">   83</span> │ <span style=\"color: #008080; text-decoration-color: #008080\">  143</span> │ <span style=\"color: #008000; text-decoration-color: #008000\"> ▂█▅▁ </span> │  │\n",
       "│ │ <span style=\"color: #af87ff; text-decoration-color: #af87ff\">glucose   </span> │ <span style=\"color: #008080; text-decoration-color: #008080\"> 304</span> │ <span style=\"color: #008080; text-decoration-color: #008080\">     8.96755162241888</span> │ <span style=\"color: #008080; text-decoration-color: #008080\">82.09</span> │ <span style=\"color: #008080; text-decoration-color: #008080\">24.24</span> │ <span style=\"color: #008080; text-decoration-color: #008080\">   40</span> │ <span style=\"color: #008080; text-decoration-color: #008080\">   71</span> │ <span style=\"color: #008080; text-decoration-color: #008080\">   78</span> │ <span style=\"color: #008080; text-decoration-color: #008080\">   87</span> │ <span style=\"color: #008080; text-decoration-color: #008080\">  394</span> │ <span style=\"color: #008000; text-decoration-color: #008000\">  █▁  </span> │  │\n",
       "│ └────────────┴──────┴───────────────────────┴───────┴───────┴───────┴───────┴───────┴───────┴───────┴────────┘  │\n",
       "╰────────────────────────────────────────────────────── End ──────────────────────────────────────────────────────╯\n",
       "</pre>\n"
      ],
      "text/plain": [
       "╭──────────────────────────────────────────────── skimpy summary ─────────────────────────────────────────────────╮\n",
       "│ \u001b[3m         Data Summary         \u001b[0m \u001b[3m      Data Types       \u001b[0m                                                          │\n",
       "│ ┏━━━━━━━━━━━━━━━━━━━┳━━━━━━━━┓ ┏━━━━━━━━━━━━━┳━━━━━━━┓                                                          │\n",
       "│ ┃\u001b[1;36m \u001b[0m\u001b[1;36mDataframe        \u001b[0m\u001b[1;36m \u001b[0m┃\u001b[1;36m \u001b[0m\u001b[1;36mValues\u001b[0m\u001b[1;36m \u001b[0m┃ ┃\u001b[1;36m \u001b[0m\u001b[1;36mColumn Type\u001b[0m\u001b[1;36m \u001b[0m┃\u001b[1;36m \u001b[0m\u001b[1;36mCount\u001b[0m\u001b[1;36m \u001b[0m┃                                                          │\n",
       "│ ┡━━━━━━━━━━━━━━━━━━━╇━━━━━━━━┩ ┡━━━━━━━━━━━━━╇━━━━━━━┩                                                          │\n",
       "│ │ Number of rows    │ 3390   │ │ float64     │ 6     │                                                          │\n",
       "│ │ Number of columns │ 7      │ │ int64       │ 1     │                                                          │\n",
       "│ └───────────────────┴────────┘ └─────────────┴───────┘                                                          │\n",
       "│ \u001b[3m                                                    number                                                    \u001b[0m  │\n",
       "│ ┏━━━━━━━━━━━━┳━━━━━━┳━━━━━━━━━━━━━━━━━━━━━━━┳━━━━━━━┳━━━━━━━┳━━━━━━━┳━━━━━━━┳━━━━━━━┳━━━━━━━┳━━━━━━━┳━━━━━━━━┓  │\n",
       "│ ┃\u001b[1m \u001b[0m\u001b[1mcolumn    \u001b[0m\u001b[1m \u001b[0m┃\u001b[1m \u001b[0m\u001b[1mNA  \u001b[0m\u001b[1m \u001b[0m┃\u001b[1m \u001b[0m\u001b[1mNA %                 \u001b[0m\u001b[1m \u001b[0m┃\u001b[1m \u001b[0m\u001b[1mmean \u001b[0m\u001b[1m \u001b[0m┃\u001b[1m \u001b[0m\u001b[1msd   \u001b[0m\u001b[1m \u001b[0m┃\u001b[1m \u001b[0m\u001b[1mp0   \u001b[0m\u001b[1m \u001b[0m┃\u001b[1m \u001b[0m\u001b[1mp25  \u001b[0m\u001b[1m \u001b[0m┃\u001b[1m \u001b[0m\u001b[1mp50  \u001b[0m\u001b[1m \u001b[0m┃\u001b[1m \u001b[0m\u001b[1mp75  \u001b[0m\u001b[1m \u001b[0m┃\u001b[1m \u001b[0m\u001b[1mp100 \u001b[0m\u001b[1m \u001b[0m┃\u001b[1m \u001b[0m\u001b[1mhist  \u001b[0m\u001b[1m \u001b[0m┃  │\n",
       "│ ┡━━━━━━━━━━━━╇━━━━━━╇━━━━━━━━━━━━━━━━━━━━━━━╇━━━━━━━╇━━━━━━━╇━━━━━━━╇━━━━━━━╇━━━━━━━╇━━━━━━━╇━━━━━━━╇━━━━━━━━┩  │\n",
       "│ │ \u001b[38;5;141mage       \u001b[0m │ \u001b[36m   0\u001b[0m │ \u001b[36m                    0\u001b[0m │ \u001b[36m49.54\u001b[0m │ \u001b[36m8.593\u001b[0m │ \u001b[36m   32\u001b[0m │ \u001b[36m   42\u001b[0m │ \u001b[36m   49\u001b[0m │ \u001b[36m   56\u001b[0m │ \u001b[36m   70\u001b[0m │ \u001b[32m▃█▇▇▅▂\u001b[0m │  │\n",
       "│ │ \u001b[38;5;141mtotChol   \u001b[0m │ \u001b[36m  38\u001b[0m │ \u001b[36m     1.12094395280236\u001b[0m │ \u001b[36m237.1\u001b[0m │ \u001b[36m45.25\u001b[0m │ \u001b[36m  107\u001b[0m │ \u001b[36m  206\u001b[0m │ \u001b[36m  234\u001b[0m │ \u001b[36m  264\u001b[0m │ \u001b[36m  696\u001b[0m │ \u001b[32m ▃█▁  \u001b[0m │  │\n",
       "│ │ \u001b[38;5;141msysBP     \u001b[0m │ \u001b[36m   0\u001b[0m │ \u001b[36m                    0\u001b[0m │ \u001b[36m132.6\u001b[0m │ \u001b[36m22.29\u001b[0m │ \u001b[36m 83.5\u001b[0m │ \u001b[36m  117\u001b[0m │ \u001b[36m128.5\u001b[0m │ \u001b[36m  144\u001b[0m │ \u001b[36m  295\u001b[0m │ \u001b[32m ▄█▂  \u001b[0m │  │\n",
       "│ │ \u001b[38;5;141mdiaBP     \u001b[0m │ \u001b[36m   0\u001b[0m │ \u001b[36m                    0\u001b[0m │ \u001b[36m82.88\u001b[0m │ \u001b[36m12.02\u001b[0m │ \u001b[36m   48\u001b[0m │ \u001b[36m 74.5\u001b[0m │ \u001b[36m   82\u001b[0m │ \u001b[36m   90\u001b[0m │ \u001b[36m142.5\u001b[0m │ \u001b[32m ▁▆█▂ \u001b[0m │  │\n",
       "│ │ \u001b[38;5;141mBMI       \u001b[0m │ \u001b[36m  14\u001b[0m │ \u001b[36m  0.41297935103244837\u001b[0m │ \u001b[36m25.79\u001b[0m │ \u001b[36m4.115\u001b[0m │ \u001b[36m15.96\u001b[0m │ \u001b[36m23.02\u001b[0m │ \u001b[36m25.38\u001b[0m │ \u001b[36m28.04\u001b[0m │ \u001b[36m 56.8\u001b[0m │ \u001b[32m ▃█▂  \u001b[0m │  │\n",
       "│ │ \u001b[38;5;141mheartRate \u001b[0m │ \u001b[36m   1\u001b[0m │ \u001b[36m 0.029498525073746312\u001b[0m │ \u001b[36m75.98\u001b[0m │ \u001b[36m11.97\u001b[0m │ \u001b[36m   45\u001b[0m │ \u001b[36m   68\u001b[0m │ \u001b[36m   75\u001b[0m │ \u001b[36m   83\u001b[0m │ \u001b[36m  143\u001b[0m │ \u001b[32m ▂█▅▁ \u001b[0m │  │\n",
       "│ │ \u001b[38;5;141mglucose   \u001b[0m │ \u001b[36m 304\u001b[0m │ \u001b[36m     8.96755162241888\u001b[0m │ \u001b[36m82.09\u001b[0m │ \u001b[36m24.24\u001b[0m │ \u001b[36m   40\u001b[0m │ \u001b[36m   71\u001b[0m │ \u001b[36m   78\u001b[0m │ \u001b[36m   87\u001b[0m │ \u001b[36m  394\u001b[0m │ \u001b[32m  █▁  \u001b[0m │  │\n",
       "│ └────────────┴──────┴───────────────────────┴───────┴───────┴───────┴───────┴───────┴───────┴───────┴────────┘  │\n",
       "╰────────────────────────────────────────────────────── End ──────────────────────────────────────────────────────╯\n"
      ]
     },
     "metadata": {},
     "output_type": "display_data"
    }
   ],
   "source": [
    "skim(continuous_data)"
   ]
  },
  {
   "cell_type": "code",
   "execution_count": 187,
   "metadata": {},
   "outputs": [
    {
     "data": {
      "image/png": "[encoded data removed]",
      "text/plain": [
       "<Figure size 640x480 with 1 Axes>"
      ]
     },
     "metadata": {},
     "output_type": "display_data"
    },
    {
     "data": {
      "image/png": "[encoded data removed]",
      "text/plain": [
       "<Figure size 640x480 with 1 Axes>"
      ]
     },
     "metadata": {},
     "output_type": "display_data"
    },
    {
     "data": {
      "image/png": "[encoded data removed]",
      "text/plain": [
       "<Figure size 640x480 with 1 Axes>"
      ]
     },
     "metadata": {},
     "output_type": "display_data"
    },
    {
     "data": {
      "image/png": "[encoded data removed]",
      "text/plain": [
       "<Figure size 640x480 with 1 Axes>"
      ]
     },
     "metadata": {},
     "output_type": "display_data"
    },
    {
     "data": {
      "image/png": "[encoded data removed]",
      "text/plain": [
       "<Figure size 640x480 with 1 Axes>"
      ]
     },
     "metadata": {},
     "output_type": "display_data"
    },
    {
     "data": {
      "image/png": "[encoded data removed]",
      "text/plain": [
       "<Figure size 640x480 with 1 Axes>"
      ]
     },
     "metadata": {},
     "output_type": "display_data"
    },
    {
     "data": {
      "image/png": "[encoded data removed]",
      "text/plain": [
       "<Figure size 640x480 with 1 Axes>"
      ]
     },
     "metadata": {},
     "output_type": "display_data"
    }
   ],
   "source": [
    "import matplotlib.pyplot as plt\n",
    "\n",
    "for feature in continuous_feat:\n",
    "    data = continuous_data[feature]\n",
    "    # Plotting the histogram\n",
    "    plt.figure()\n",
    "    plt.hist(data, bins=50, edgecolor='black')  # You can adjust the number of bins\n",
    "    plt.title(f'Histogram {feature}')\n",
    "    plt.xlabel('Value')\n",
    "    plt.ylabel('Frequency')"
   ]
  },
  {
   "cell_type": "code",
   "execution_count": 188,
   "metadata": {},
   "outputs": [],
   "source": [
    "continuous_data_cl = continuous_data.dropna()"
   ]
  },
  {
   "cell_type": "code",
   "execution_count": 189,
   "metadata": {},
   "outputs": [],
   "source": [
    "import pandas as pd\n",
    "discr_labels_5 = ['0','1','2','3','4']\n",
    "discr_labels_4 = ['0','1','2','3']\n",
    "continuous_data_cl.loc[:,'age'] = pd.cut(continuous_data_cl.age,bins=[20,39,49,59,69,500],labels=discr_labels_5,ordered=False).astype(float)\n",
    "continuous_data_cl.loc[:,'totChol'] = pd.cut(continuous_data_cl.totChol,bins=[0,159,199,239,279,500],labels=discr_labels_5,ordered=False).astype(float)\n",
    "continuous_data_cl.loc[:,'sysBP'] = pd.cut(continuous_data_cl.sysBP,bins=[0,119,129,139,159,500],labels=discr_labels_5,ordered=False).astype(float)\n",
    "continuous_data_cl.loc[:,'diaBP'] = pd.cut(continuous_data_cl.diaBP,bins=[0,79,89,119,float('inf')],labels = discr_labels_4,ordered=False).astype(float)\n",
    "continuous_data_cl.loc[:,'BMI'] = pd.cut(continuous_data_cl.BMI,bins=[0,18.5,24.9,29.9,34.9,float('inf')],labels=discr_labels_5,ordered=False).astype(float)\n",
    "continuous_data_cl.loc[:,'heartRate'] = pd.cut(continuous_data_cl.heartRate,bins=[0,59,99,float('inf')],labels = [0,1,2],ordered=False).astype(float)\n",
    "continuous_data_cl.loc[:,'glucose'] = pd.cut(continuous_data_cl.glucose,bins=[0,69,99,125,float('inf')],labels=discr_labels_4,ordered=False).astype(float)\n",
    "\n",
    "continuous_data_cl = continuous_data_cl.astype('str')"
   ]
  },
  {
   "cell_type": "code",
   "execution_count": 190,
   "metadata": {},
   "outputs": [
    {
     "data": {
      "text/plain": [
       "Index(['education', 'sex', 'is_smoking', 'BPMeds', 'prevalentStroke',\n",
       "       'prevalentHyp', 'diabetes', 'TenYearCHD'],\n",
       "      dtype='object')"
      ]
     },
     "execution_count": 190,
     "metadata": {},
     "output_type": "execute_result"
    }
   ],
   "source": [
    "discrete_data.columns "
   ]
  },
  {
   "cell_type": "code",
   "execution_count": 191,
   "metadata": {},
   "outputs": [
    {
     "data": {
      "text/plain": [
       "Index(['age', 'totChol', 'sysBP', 'diaBP', 'BMI', 'heartRate', 'glucose'], dtype='object')"
      ]
     },
     "execution_count": 191,
     "metadata": {},
     "output_type": "execute_result"
    }
   ],
   "source": [
    "continuous_data_cl.columns"
   ]
  },
  {
   "cell_type": "code",
   "execution_count": 192,
   "metadata": {},
   "outputs": [
    {
     "data": {
      "text/html": [
       "<div>\n",
       "<style scoped>\n",
       "    .dataframe tbody tr th:only-of-type {\n",
       "        vertical-align: middle;\n",
       "    }\n",
       "\n",
       "    .dataframe tbody tr th {\n",
       "        vertical-align: top;\n",
       "    }\n",
       "\n",
       "    .dataframe thead th {\n",
       "        text-align: right;\n",
       "    }\n",
       "</style>\n",
       "<table border=\"1\" class=\"dataframe\">\n",
       "  <thead>\n",
       "    <tr style=\"text-align: right;\">\n",
       "      <th></th>\n",
       "      <th>A</th>\n",
       "      <th>C</th>\n",
       "      <th>SBP</th>\n",
       "      <th>DBP</th>\n",
       "      <th>BMI</th>\n",
       "      <th>HR</th>\n",
       "      <th>G</th>\n",
       "      <th>E</th>\n",
       "      <th>S</th>\n",
       "      <th>SM</th>\n",
       "      <th>M</th>\n",
       "      <th>PS</th>\n",
       "      <th>PH</th>\n",
       "      <th>D</th>\n",
       "      <th>TYS</th>\n",
       "    </tr>\n",
       "    <tr>\n",
       "      <th>id</th>\n",
       "      <th></th>\n",
       "      <th></th>\n",
       "      <th></th>\n",
       "      <th></th>\n",
       "      <th></th>\n",
       "      <th></th>\n",
       "      <th></th>\n",
       "      <th></th>\n",
       "      <th></th>\n",
       "      <th></th>\n",
       "      <th></th>\n",
       "      <th></th>\n",
       "      <th></th>\n",
       "      <th></th>\n",
       "      <th></th>\n",
       "    </tr>\n",
       "  </thead>\n",
       "  <tbody>\n",
       "    <tr>\n",
       "      <th>1</th>\n",
       "      <td>0</td>\n",
       "      <td>2</td>\n",
       "      <td>4</td>\n",
       "      <td>2</td>\n",
       "      <td>2</td>\n",
       "      <td>1</td>\n",
       "      <td>1</td>\n",
       "      <td>3</td>\n",
       "      <td>1</td>\n",
       "      <td>0</td>\n",
       "      <td>0</td>\n",
       "      <td>0</td>\n",
       "      <td>1</td>\n",
       "      <td>0</td>\n",
       "      <td>0</td>\n",
       "    </tr>\n",
       "    <tr>\n",
       "      <th>2</th>\n",
       "      <td>1</td>\n",
       "      <td>3</td>\n",
       "      <td>0</td>\n",
       "      <td>0</td>\n",
       "      <td>1</td>\n",
       "      <td>1</td>\n",
       "      <td>1</td>\n",
       "      <td>0</td>\n",
       "      <td>0</td>\n",
       "      <td>1</td>\n",
       "      <td>0</td>\n",
       "      <td>0</td>\n",
       "      <td>0</td>\n",
       "      <td>0</td>\n",
       "      <td>0</td>\n",
       "    </tr>\n",
       "    <tr>\n",
       "      <th>3</th>\n",
       "      <td>2</td>\n",
       "      <td>2</td>\n",
       "      <td>3</td>\n",
       "      <td>1</td>\n",
       "      <td>2</td>\n",
       "      <td>1</td>\n",
       "      <td>1</td>\n",
       "      <td>0</td>\n",
       "      <td>1</td>\n",
       "      <td>1</td>\n",
       "      <td>0</td>\n",
       "      <td>0</td>\n",
       "      <td>1</td>\n",
       "      <td>0</td>\n",
       "      <td>1</td>\n",
       "    </tr>\n",
       "    <tr>\n",
       "      <th>4</th>\n",
       "      <td>3</td>\n",
       "      <td>3</td>\n",
       "      <td>2</td>\n",
       "      <td>1</td>\n",
       "      <td>2</td>\n",
       "      <td>1</td>\n",
       "      <td>1</td>\n",
       "      <td>0</td>\n",
       "      <td>0</td>\n",
       "      <td>1</td>\n",
       "      <td>0</td>\n",
       "      <td>0</td>\n",
       "      <td>0</td>\n",
       "      <td>0</td>\n",
       "      <td>0</td>\n",
       "    </tr>\n",
       "    <tr>\n",
       "      <th>5</th>\n",
       "      <td>3</td>\n",
       "      <td>3</td>\n",
       "      <td>4</td>\n",
       "      <td>3</td>\n",
       "      <td>3</td>\n",
       "      <td>1</td>\n",
       "      <td>0</td>\n",
       "      <td>2</td>\n",
       "      <td>0</td>\n",
       "      <td>0</td>\n",
       "      <td>0</td>\n",
       "      <td>0</td>\n",
       "      <td>1</td>\n",
       "      <td>0</td>\n",
       "      <td>1</td>\n",
       "    </tr>\n",
       "  </tbody>\n",
       "</table>\n",
       "</div>"
      ],
      "text/plain": [
       "    A  C  SBP  DBP  BMI  HR  G  E  S  SM  M  PS  PH  D  TYS\n",
       "id                                                         \n",
       "1   0  2    4    2    2   1  1  3  1   0  0   0   1  0    0\n",
       "2   1  3    0    0    1   1  1  0  0   1  0   0   0  0    0\n",
       "3   2  2    3    1    2   1  1  0  1   1  0   0   1  0    1\n",
       "4   3  3    2    1    2   1  1  0  0   1  0   0   0  0    0\n",
       "5   3  3    4    3    3   1  0  2  0   0  0   0   1  0    1"
      ]
     },
     "execution_count": 192,
     "metadata": {},
     "output_type": "execute_result"
    }
   ],
   "source": [
    "continuous_data_cl.columns=['A','C','SBP','DBP','BMI','HR','G']\n",
    "discrete_data.columns = ['E','S','SM','M','PS','PH','D','TYS']\n",
    "\n",
    "dataset = pd.concat([continuous_data_cl,discrete_data],axis=1)\n",
    "\n",
    "encoder = LabelEncoder()\n",
    "\n",
    "for col in dataset.columns :\n",
    "    dataset[col] = encoder.fit_transform(dataset[col])\n",
    "dataset.head()"
   ]
  },
  {
   "cell_type": "code",
   "execution_count": 198,
   "metadata": {},
   "outputs": [
    {
     "name": "stdout",
     "output_type": "stream",
     "text": [
      "False\n"
     ]
    }
   ],
   "source": [
    "from pgmpy.estimators.CITests import chi_square\n",
    "\n",
    "print(chi_square(X='SM', Y='G', Z=[], data=dataset, significance_level=0.05)) "
   ]
  },
  {
   "cell_type": "code",
   "execution_count": 194,
   "metadata": {},
   "outputs": [],
   "source": [
    "fixed_edges = [('A','D'),('G','D')]\n",
    "forbidden_edges= [(var,\"A\") for var in dataset.columns if var != \"A\"] + \\\n",
    "                  [(var,\"G\") for var in dataset.columns if var != \"G\"] "
   ]
  },
  {
   "cell_type": "code",
   "execution_count": 195,
   "metadata": {},
   "outputs": [
    {
     "data": {
      "application/vnd.jupyter.widget-view+json": {
       "model_id": "b14abed0271a423da3def1c603986fd9",
       "version_major": 2,
       "version_minor": 0
      },
      "text/plain": [
       "  0%|          | 0/1000000 [00:00<?, ?it/s]"
      ]
     },
     "metadata": {},
     "output_type": "display_data"
    },
    {
     "name": "stdout",
     "output_type": "stream",
     "text": [
      "[('A', 'SBP'), ('A', 'C'), ('SBP', 'DBP'), ('SBP', 'HR'), ('DBP', 'BMI')]\n"
     ]
    }
   ],
   "source": [
    "hill = HillClimbSearch(continuous_data_cl)\n",
    "best_model = hill.estimate(scoring_method=AICScore(continuous_data_cl),black_list=forbidden_edges)\n",
    "nodes = best_model.nodes()\n",
    "edges = best_model.edges()\n",
    "\n",
    "print(edges)\n"
   ]
  },
  {
   "cell_type": "code",
   "execution_count": 196,
   "metadata": {},
   "outputs": [
    {
     "data": {
      "image/png": "[encoded data removed]",
      "text/plain": [
       "<Figure size 600x400 with 1 Axes>"
      ]
     },
     "metadata": {},
     "output_type": "display_data"
    }
   ],
   "source": [
    "import networkx as nx\n",
    "import matplotlib.pyplot as plt\n",
    "\n",
    "# Create a pgmpy model\n",
    "model = BayesianNetwork(edges)\n",
    "\n",
    "# Convert to a networkx graph\n",
    "G = nx.DiGraph()\n",
    "G.add_edges_from(model.edges())\n",
    "\n",
    "# Draw the graph\n",
    "plt.figure(figsize=(6, 4))\n",
    "pos = nx.shell_layout(G)  # Layout for better visualization\n",
    "nx.draw(G, pos, with_labels=True, node_color=\"lightblue\", edge_color=\"gray\", node_size=2000, font_size=10, arrowsize=15)\n",
    "\n",
    "plt.show()"
   ]
  },
  {
   "cell_type": "code",
   "execution_count": null,
   "metadata": {},
   "outputs": [],
   "source": []
  }
 ],
 "metadata": {
  "kernelspec": {
   "display_name": "bayes_env",
   "language": "python",
   "name": "python3"
  },
  "language_info": {
   "codemirror_mode": {
    "name": "ipython",
    "version": 3
   },
   "file_extension": ".py",
   "mimetype": "text/x-python",
   "name": "python",
   "nbconvert_exporter": "python",
   "pygments_lexer": "ipython3",
   "version": "3.12.8"
  }
 },
 "nbformat": 4,
 "nbformat_minor": 2
}
